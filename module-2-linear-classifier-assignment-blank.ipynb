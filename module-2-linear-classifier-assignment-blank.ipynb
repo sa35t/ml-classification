{
 "cells": [
  {
   "cell_type": "markdown",
   "metadata": {},
   "source": [
    "# Predicting sentiment from product reviews\n",
    "\n",
    "\n",
    "The goal of this first notebook is to explore logistic regression and feature engineering with existing GraphLab functions.\n",
    "\n",
    "In this notebook you will use product review data from Amazon.com to predict whether the sentiments about a product (from its reviews) are positive or negative.\n",
    "\n",
    "* Use SFrames to do some feature engineering\n",
    "* Train a logistic regression model to predict the sentiment of product reviews.\n",
    "* Inspect the weights (coefficients) of a trained logistic regression model.\n",
    "* Make a prediction (both class and probability) of sentiment for a new product review.\n",
    "* Given the logistic regression weights, predictors and ground truth labels, write a function to compute the **accuracy** of the model.\n",
    "* Inspect the coefficients of the logistic regression model and interpret their meanings.\n",
    "* Compare multiple logistic regression models.\n",
    "\n",
    "Let's get started!\n",
    "    \n",
    "## Fire up GraphLab Create"
   ]
  },
  {
   "cell_type": "markdown",
   "metadata": {},
   "source": [
    "Make sure you have the latest version of GraphLab Create."
   ]
  },
  {
   "cell_type": "code",
   "execution_count": 1,
   "metadata": {
    "collapsed": false
   },
   "outputs": [
    {
     "name": "stderr",
     "output_type": "stream",
     "text": [
      "A newer version of GraphLab Create (v1.8.3) is available! Your current version is v1.7.1.\n",
      "\n",
      "You can use pip to upgrade the graphlab-create package. For more information see https://dato.com/products/create/upgrade.\n"
     ]
    }
   ],
   "source": [
    "from __future__ import division\n",
    "import graphlab\n",
    "import math\n",
    "import string"
   ]
  },
  {
   "cell_type": "markdown",
   "metadata": {},
   "source": [
    "# Data preperation\n",
    "\n",
    "We will use a dataset consisting of baby product reviews on Amazon.com."
   ]
  },
  {
   "cell_type": "code",
   "execution_count": 2,
   "metadata": {
    "collapsed": false
   },
   "outputs": [
    {
     "name": "stderr",
     "output_type": "stream",
     "text": [
      "[INFO] \u001b[1;32m1457417117 : INFO:     (initialize_globals_from_environment:282): Setting configuration variable GRAPHLAB_FILEIO_ALTERNATIVE_SSL_CERT_FILE to /home/sandeep/anaconda2/lib/python2.7/site-packages/certifi/cacert.pem\n",
      "\u001b[0m\u001b[1;32m1457417117 : INFO:     (initialize_globals_from_environment:282): Setting configuration variable GRAPHLAB_FILEIO_ALTERNATIVE_SSL_CERT_DIR to \n",
      "\u001b[0mThis non-commercial license of GraphLab Create is assigned to sandeep71991@gmail.com and will expire on December 24, 2016. For commercial licensing options, visit https://dato.com/buy/.\n",
      "\n",
      "[INFO] Start server at: ipc:///tmp/graphlab_server-6680 - Server binary: /home/sandeep/anaconda2/lib/python2.7/site-packages/graphlab/unity_server - Server log: /tmp/graphlab_server_1457417117.log\n",
      "[INFO] GraphLab Server Version: 1.7.1\n"
     ]
    }
   ],
   "source": [
    "products = graphlab.SFrame('amazon_baby.gl/')"
   ]
  },
  {
   "cell_type": "markdown",
   "metadata": {},
   "source": [
    "Now, let us see a preview of what the dataset looks like."
   ]
  },
  {
   "cell_type": "code",
   "execution_count": 3,
   "metadata": {
    "collapsed": false
   },
   "outputs": [
    {
     "data": {
      "text/html": [
       "<div style=\"max-height:1000px;max-width:1500px;overflow:auto;\"><table frame=\"box\" rules=\"cols\">\n",
       "    <tr>\n",
       "        <th style=\"padding-left: 1em; padding-right: 1em; text-align: center\">name</th>\n",
       "        <th style=\"padding-left: 1em; padding-right: 1em; text-align: center\">review</th>\n",
       "        <th style=\"padding-left: 1em; padding-right: 1em; text-align: center\">rating</th>\n",
       "    </tr>\n",
       "    <tr>\n",
       "        <td style=\"padding-left: 1em; padding-right: 1em; text-align: center; vertical-align: top\">Planetwise Flannel Wipes</td>\n",
       "        <td style=\"padding-left: 1em; padding-right: 1em; text-align: center; vertical-align: top\">These flannel wipes are<br>OK, but in my opinion ...</td>\n",
       "        <td style=\"padding-left: 1em; padding-right: 1em; text-align: center; vertical-align: top\">3.0</td>\n",
       "    </tr>\n",
       "    <tr>\n",
       "        <td style=\"padding-left: 1em; padding-right: 1em; text-align: center; vertical-align: top\">Planetwise Wipe Pouch</td>\n",
       "        <td style=\"padding-left: 1em; padding-right: 1em; text-align: center; vertical-align: top\">it came early and was not<br>disappointed. i love ...</td>\n",
       "        <td style=\"padding-left: 1em; padding-right: 1em; text-align: center; vertical-align: top\">5.0</td>\n",
       "    </tr>\n",
       "    <tr>\n",
       "        <td style=\"padding-left: 1em; padding-right: 1em; text-align: center; vertical-align: top\">Annas Dream Full Quilt<br>with 2 Shams ...</td>\n",
       "        <td style=\"padding-left: 1em; padding-right: 1em; text-align: center; vertical-align: top\">Very soft and comfortable<br>and warmer than it ...</td>\n",
       "        <td style=\"padding-left: 1em; padding-right: 1em; text-align: center; vertical-align: top\">5.0</td>\n",
       "    </tr>\n",
       "    <tr>\n",
       "        <td style=\"padding-left: 1em; padding-right: 1em; text-align: center; vertical-align: top\">Stop Pacifier Sucking<br>without tears with ...</td>\n",
       "        <td style=\"padding-left: 1em; padding-right: 1em; text-align: center; vertical-align: top\">This is a product well<br>worth the purchase.  I ...</td>\n",
       "        <td style=\"padding-left: 1em; padding-right: 1em; text-align: center; vertical-align: top\">5.0</td>\n",
       "    </tr>\n",
       "    <tr>\n",
       "        <td style=\"padding-left: 1em; padding-right: 1em; text-align: center; vertical-align: top\">Stop Pacifier Sucking<br>without tears with ...</td>\n",
       "        <td style=\"padding-left: 1em; padding-right: 1em; text-align: center; vertical-align: top\">All of my kids have cried<br>non-stop when I tried to ...</td>\n",
       "        <td style=\"padding-left: 1em; padding-right: 1em; text-align: center; vertical-align: top\">5.0</td>\n",
       "    </tr>\n",
       "    <tr>\n",
       "        <td style=\"padding-left: 1em; padding-right: 1em; text-align: center; vertical-align: top\">Stop Pacifier Sucking<br>without tears with ...</td>\n",
       "        <td style=\"padding-left: 1em; padding-right: 1em; text-align: center; vertical-align: top\">When the Binky Fairy came<br>to our house, we didn't ...</td>\n",
       "        <td style=\"padding-left: 1em; padding-right: 1em; text-align: center; vertical-align: top\">5.0</td>\n",
       "    </tr>\n",
       "    <tr>\n",
       "        <td style=\"padding-left: 1em; padding-right: 1em; text-align: center; vertical-align: top\">A Tale of Baby's Days<br>with Peter Rabbit ...</td>\n",
       "        <td style=\"padding-left: 1em; padding-right: 1em; text-align: center; vertical-align: top\">Lovely book, it's bound<br>tightly so you may no ...</td>\n",
       "        <td style=\"padding-left: 1em; padding-right: 1em; text-align: center; vertical-align: top\">4.0</td>\n",
       "    </tr>\n",
       "    <tr>\n",
       "        <td style=\"padding-left: 1em; padding-right: 1em; text-align: center; vertical-align: top\">Baby Tracker&amp;reg; - Daily<br>Childcare Journal, ...</td>\n",
       "        <td style=\"padding-left: 1em; padding-right: 1em; text-align: center; vertical-align: top\">Perfect for new parents.<br>We were able to keep ...</td>\n",
       "        <td style=\"padding-left: 1em; padding-right: 1em; text-align: center; vertical-align: top\">5.0</td>\n",
       "    </tr>\n",
       "    <tr>\n",
       "        <td style=\"padding-left: 1em; padding-right: 1em; text-align: center; vertical-align: top\">Baby Tracker&amp;reg; - Daily<br>Childcare Journal, ...</td>\n",
       "        <td style=\"padding-left: 1em; padding-right: 1em; text-align: center; vertical-align: top\">A friend of mine pinned<br>this product on Pinte ...</td>\n",
       "        <td style=\"padding-left: 1em; padding-right: 1em; text-align: center; vertical-align: top\">5.0</td>\n",
       "    </tr>\n",
       "    <tr>\n",
       "        <td style=\"padding-left: 1em; padding-right: 1em; text-align: center; vertical-align: top\">Baby Tracker&amp;reg; - Daily<br>Childcare Journal, ...</td>\n",
       "        <td style=\"padding-left: 1em; padding-right: 1em; text-align: center; vertical-align: top\">This has been an easy way<br>for my nanny to record ...</td>\n",
       "        <td style=\"padding-left: 1em; padding-right: 1em; text-align: center; vertical-align: top\">4.0</td>\n",
       "    </tr>\n",
       "</table>\n",
       "[183531 rows x 3 columns]<br/>Note: Only the head of the SFrame is printed.<br/>You can use print_rows(num_rows=m, num_columns=n) to print more rows and columns.\n",
       "</div>"
      ],
      "text/plain": [
       "Columns:\n",
       "\tname\tstr\n",
       "\treview\tstr\n",
       "\trating\tfloat\n",
       "\n",
       "Rows: 183531\n",
       "\n",
       "Data:\n",
       "+-------------------------------+-------------------------------+--------+\n",
       "|              name             |             review            | rating |\n",
       "+-------------------------------+-------------------------------+--------+\n",
       "|    Planetwise Flannel Wipes   | These flannel wipes are OK... |  3.0   |\n",
       "|     Planetwise Wipe Pouch     | it came early and was not ... |  5.0   |\n",
       "| Annas Dream Full Quilt wit... | Very soft and comfortable ... |  5.0   |\n",
       "| Stop Pacifier Sucking with... | This is a product well wor... |  5.0   |\n",
       "| Stop Pacifier Sucking with... | All of my kids have cried ... |  5.0   |\n",
       "| Stop Pacifier Sucking with... | When the Binky Fairy came ... |  5.0   |\n",
       "| A Tale of Baby's Days with... | Lovely book, it's bound ti... |  4.0   |\n",
       "| Baby Tracker&reg; - Daily ... | Perfect for new parents. W... |  5.0   |\n",
       "| Baby Tracker&reg; - Daily ... | A friend of mine pinned th... |  5.0   |\n",
       "| Baby Tracker&reg; - Daily ... | This has been an easy way ... |  4.0   |\n",
       "+-------------------------------+-------------------------------+--------+\n",
       "[183531 rows x 3 columns]\n",
       "Note: Only the head of the SFrame is printed.\n",
       "You can use print_rows(num_rows=m, num_columns=n) to print more rows and columns."
      ]
     },
     "execution_count": 3,
     "metadata": {},
     "output_type": "execute_result"
    }
   ],
   "source": [
    "products"
   ]
  },
  {
   "cell_type": "markdown",
   "metadata": {},
   "source": [
    "## Build the word count vector for each review"
   ]
  },
  {
   "cell_type": "markdown",
   "metadata": {},
   "source": [
    "Let us explore a specific example of a baby product.\n"
   ]
  },
  {
   "cell_type": "code",
   "execution_count": 4,
   "metadata": {
    "collapsed": false
   },
   "outputs": [
    {
     "data": {
      "text/plain": [
       "{'name': 'The First Years Massaging Action Teether',\n",
       " 'rating': 5.0,\n",
       " 'review': 'A favorite in our house!'}"
      ]
     },
     "execution_count": 4,
     "metadata": {},
     "output_type": "execute_result"
    }
   ],
   "source": [
    "products[269]"
   ]
  },
  {
   "cell_type": "markdown",
   "metadata": {},
   "source": [
    "Now, we will perform 2 simple data transformations:\n",
    "\n",
    "1. Remove punctuation using [Python's built-in](https://docs.python.org/2/library/string.html) string functionality.\n",
    "2. Transform the reviews into word-counts.\n",
    "\n",
    "**Aside**. In this notebook, we remove all punctuations for the sake of simplicity. A smarter approach to punctuations would preserve phrases such as \"I'd\", \"would've\", \"hadn't\" and so forth. See [this page](https://www.cis.upenn.edu/~treebank/tokenization.html) for an example of smart handling of punctuations."
   ]
  },
  {
   "cell_type": "code",
   "execution_count": 5,
   "metadata": {
    "collapsed": false
   },
   "outputs": [],
   "source": [
    "def remove_punctuation(text):\n",
    "    import string\n",
    "    return text.translate(None, string.punctuation) \n",
    "\n",
    "review_without_puctuation = products['review'].apply(remove_punctuation)\n",
    "products['word_count'] = graphlab.text_analytics.count_words(review_without_puctuation)"
   ]
  },
  {
   "cell_type": "markdown",
   "metadata": {},
   "source": [
    "Now, let us explore what the sample example above looks like after these 2 transformations. Here, each entry in the **word_count** column is a dictionary where the key is the word and the value is a count of the number of times the word occurs."
   ]
  },
  {
   "cell_type": "code",
   "execution_count": 6,
   "metadata": {
    "collapsed": false
   },
   "outputs": [
    {
     "data": {
      "text/plain": [
       "{'a': 1, 'favorite': 1, 'house': 1, 'in': 1, 'our': 1}"
      ]
     },
     "execution_count": 6,
     "metadata": {},
     "output_type": "execute_result"
    }
   ],
   "source": [
    "products[269]['word_count']"
   ]
  },
  {
   "cell_type": "markdown",
   "metadata": {},
   "source": [
    "## Extract sentiments\n",
    "\n",
    "We will **ignore** all reviews with *rating = 3*, since they tend to have a neutral sentiment."
   ]
  },
  {
   "cell_type": "code",
   "execution_count": 7,
   "metadata": {
    "collapsed": false
   },
   "outputs": [
    {
     "data": {
      "text/plain": [
       "166752"
      ]
     },
     "execution_count": 7,
     "metadata": {},
     "output_type": "execute_result"
    }
   ],
   "source": [
    "products = products[products['rating'] != 3]\n",
    "len(products)"
   ]
  },
  {
   "cell_type": "markdown",
   "metadata": {},
   "source": [
    "Now, we will assign reviews with a rating of 4 or higher to be *positive* reviews, while the ones with rating of 2 or lower are *negative*. For the sentiment column, we use +1 for the positive class label and -1 for the negative class label."
   ]
  },
  {
   "cell_type": "code",
   "execution_count": 8,
   "metadata": {
    "collapsed": false
   },
   "outputs": [
    {
     "data": {
      "text/html": [
       "<div style=\"max-height:1000px;max-width:1500px;overflow:auto;\"><table frame=\"box\" rules=\"cols\">\n",
       "    <tr>\n",
       "        <th style=\"padding-left: 1em; padding-right: 1em; text-align: center\">name</th>\n",
       "        <th style=\"padding-left: 1em; padding-right: 1em; text-align: center\">review</th>\n",
       "        <th style=\"padding-left: 1em; padding-right: 1em; text-align: center\">rating</th>\n",
       "        <th style=\"padding-left: 1em; padding-right: 1em; text-align: center\">word_count</th>\n",
       "        <th style=\"padding-left: 1em; padding-right: 1em; text-align: center\">sentiment</th>\n",
       "    </tr>\n",
       "    <tr>\n",
       "        <td style=\"padding-left: 1em; padding-right: 1em; text-align: center; vertical-align: top\">Planetwise Wipe Pouch</td>\n",
       "        <td style=\"padding-left: 1em; padding-right: 1em; text-align: center; vertical-align: top\">it came early and was not<br>disappointed. i love ...</td>\n",
       "        <td style=\"padding-left: 1em; padding-right: 1em; text-align: center; vertical-align: top\">5.0</td>\n",
       "        <td style=\"padding-left: 1em; padding-right: 1em; text-align: center; vertical-align: top\">{'and': 3, 'love': 1,<br>'it': 3, 'highly': 1, ...</td>\n",
       "        <td style=\"padding-left: 1em; padding-right: 1em; text-align: center; vertical-align: top\">1</td>\n",
       "    </tr>\n",
       "    <tr>\n",
       "        <td style=\"padding-left: 1em; padding-right: 1em; text-align: center; vertical-align: top\">Annas Dream Full Quilt<br>with 2 Shams ...</td>\n",
       "        <td style=\"padding-left: 1em; padding-right: 1em; text-align: center; vertical-align: top\">Very soft and comfortable<br>and warmer than it ...</td>\n",
       "        <td style=\"padding-left: 1em; padding-right: 1em; text-align: center; vertical-align: top\">5.0</td>\n",
       "        <td style=\"padding-left: 1em; padding-right: 1em; text-align: center; vertical-align: top\">{'and': 2, 'quilt': 1,<br>'it': 1, 'comfortable': ...</td>\n",
       "        <td style=\"padding-left: 1em; padding-right: 1em; text-align: center; vertical-align: top\">1</td>\n",
       "    </tr>\n",
       "    <tr>\n",
       "        <td style=\"padding-left: 1em; padding-right: 1em; text-align: center; vertical-align: top\">Stop Pacifier Sucking<br>without tears with ...</td>\n",
       "        <td style=\"padding-left: 1em; padding-right: 1em; text-align: center; vertical-align: top\">This is a product well<br>worth the purchase.  I ...</td>\n",
       "        <td style=\"padding-left: 1em; padding-right: 1em; text-align: center; vertical-align: top\">5.0</td>\n",
       "        <td style=\"padding-left: 1em; padding-right: 1em; text-align: center; vertical-align: top\">{'and': 3, 'ingenious':<br>1, 'love': 2, 'is': 4, ...</td>\n",
       "        <td style=\"padding-left: 1em; padding-right: 1em; text-align: center; vertical-align: top\">1</td>\n",
       "    </tr>\n",
       "    <tr>\n",
       "        <td style=\"padding-left: 1em; padding-right: 1em; text-align: center; vertical-align: top\">Stop Pacifier Sucking<br>without tears with ...</td>\n",
       "        <td style=\"padding-left: 1em; padding-right: 1em; text-align: center; vertical-align: top\">All of my kids have cried<br>non-stop when I tried to ...</td>\n",
       "        <td style=\"padding-left: 1em; padding-right: 1em; text-align: center; vertical-align: top\">5.0</td>\n",
       "        <td style=\"padding-left: 1em; padding-right: 1em; text-align: center; vertical-align: top\">{'and': 2, 'all': 2,<br>'help': 1, 'cried': 1, ...</td>\n",
       "        <td style=\"padding-left: 1em; padding-right: 1em; text-align: center; vertical-align: top\">1</td>\n",
       "    </tr>\n",
       "    <tr>\n",
       "        <td style=\"padding-left: 1em; padding-right: 1em; text-align: center; vertical-align: top\">Stop Pacifier Sucking<br>without tears with ...</td>\n",
       "        <td style=\"padding-left: 1em; padding-right: 1em; text-align: center; vertical-align: top\">When the Binky Fairy came<br>to our house, we didn't ...</td>\n",
       "        <td style=\"padding-left: 1em; padding-right: 1em; text-align: center; vertical-align: top\">5.0</td>\n",
       "        <td style=\"padding-left: 1em; padding-right: 1em; text-align: center; vertical-align: top\">{'and': 2, 'cute': 1,<br>'help': 2, 'habit': 1, ...</td>\n",
       "        <td style=\"padding-left: 1em; padding-right: 1em; text-align: center; vertical-align: top\">1</td>\n",
       "    </tr>\n",
       "    <tr>\n",
       "        <td style=\"padding-left: 1em; padding-right: 1em; text-align: center; vertical-align: top\">A Tale of Baby's Days<br>with Peter Rabbit ...</td>\n",
       "        <td style=\"padding-left: 1em; padding-right: 1em; text-align: center; vertical-align: top\">Lovely book, it's bound<br>tightly so you may no ...</td>\n",
       "        <td style=\"padding-left: 1em; padding-right: 1em; text-align: center; vertical-align: top\">4.0</td>\n",
       "        <td style=\"padding-left: 1em; padding-right: 1em; text-align: center; vertical-align: top\">{'shop': 1, 'be': 1,<br>'is': 1, 'bound': 1, ...</td>\n",
       "        <td style=\"padding-left: 1em; padding-right: 1em; text-align: center; vertical-align: top\">1</td>\n",
       "    </tr>\n",
       "    <tr>\n",
       "        <td style=\"padding-left: 1em; padding-right: 1em; text-align: center; vertical-align: top\">Baby Tracker&amp;reg; - Daily<br>Childcare Journal, ...</td>\n",
       "        <td style=\"padding-left: 1em; padding-right: 1em; text-align: center; vertical-align: top\">Perfect for new parents.<br>We were able to keep ...</td>\n",
       "        <td style=\"padding-left: 1em; padding-right: 1em; text-align: center; vertical-align: top\">5.0</td>\n",
       "        <td style=\"padding-left: 1em; padding-right: 1em; text-align: center; vertical-align: top\">{'and': 2, 'all': 1,<br>'right': 1, 'able': 1, ...</td>\n",
       "        <td style=\"padding-left: 1em; padding-right: 1em; text-align: center; vertical-align: top\">1</td>\n",
       "    </tr>\n",
       "    <tr>\n",
       "        <td style=\"padding-left: 1em; padding-right: 1em; text-align: center; vertical-align: top\">Baby Tracker&amp;reg; - Daily<br>Childcare Journal, ...</td>\n",
       "        <td style=\"padding-left: 1em; padding-right: 1em; text-align: center; vertical-align: top\">A friend of mine pinned<br>this product on Pinte ...</td>\n",
       "        <td style=\"padding-left: 1em; padding-right: 1em; text-align: center; vertical-align: top\">5.0</td>\n",
       "        <td style=\"padding-left: 1em; padding-right: 1em; text-align: center; vertical-align: top\">{'and': 1, 'fantastic':<br>1, 'help': 1, 'give': 1, ...</td>\n",
       "        <td style=\"padding-left: 1em; padding-right: 1em; text-align: center; vertical-align: top\">1</td>\n",
       "    </tr>\n",
       "    <tr>\n",
       "        <td style=\"padding-left: 1em; padding-right: 1em; text-align: center; vertical-align: top\">Baby Tracker&amp;reg; - Daily<br>Childcare Journal, ...</td>\n",
       "        <td style=\"padding-left: 1em; padding-right: 1em; text-align: center; vertical-align: top\">This has been an easy way<br>for my nanny to record ...</td>\n",
       "        <td style=\"padding-left: 1em; padding-right: 1em; text-align: center; vertical-align: top\">4.0</td>\n",
       "        <td style=\"padding-left: 1em; padding-right: 1em; text-align: center; vertical-align: top\">{'all': 1, 'standarad':<br>1, 'another': 1, ...</td>\n",
       "        <td style=\"padding-left: 1em; padding-right: 1em; text-align: center; vertical-align: top\">1</td>\n",
       "    </tr>\n",
       "    <tr>\n",
       "        <td style=\"padding-left: 1em; padding-right: 1em; text-align: center; vertical-align: top\">Baby Tracker&amp;reg; - Daily<br>Childcare Journal, ...</td>\n",
       "        <td style=\"padding-left: 1em; padding-right: 1em; text-align: center; vertical-align: top\">I love this journal and<br>our nanny uses it ...</td>\n",
       "        <td style=\"padding-left: 1em; padding-right: 1em; text-align: center; vertical-align: top\">4.0</td>\n",
       "        <td style=\"padding-left: 1em; padding-right: 1em; text-align: center; vertical-align: top\">{'all': 2, 'nannys': 1,<br>'just': 1, 'sleep': 2, ...</td>\n",
       "        <td style=\"padding-left: 1em; padding-right: 1em; text-align: center; vertical-align: top\">1</td>\n",
       "    </tr>\n",
       "</table>\n",
       "[166752 rows x 5 columns]<br/>Note: Only the head of the SFrame is printed.<br/>You can use print_rows(num_rows=m, num_columns=n) to print more rows and columns.\n",
       "</div>"
      ],
      "text/plain": [
       "Columns:\n",
       "\tname\tstr\n",
       "\treview\tstr\n",
       "\trating\tfloat\n",
       "\tword_count\tdict\n",
       "\tsentiment\tint\n",
       "\n",
       "Rows: 166752\n",
       "\n",
       "Data:\n",
       "+-------------------------------+-------------------------------+--------+\n",
       "|              name             |             review            | rating |\n",
       "+-------------------------------+-------------------------------+--------+\n",
       "|     Planetwise Wipe Pouch     | it came early and was not ... |  5.0   |\n",
       "| Annas Dream Full Quilt wit... | Very soft and comfortable ... |  5.0   |\n",
       "| Stop Pacifier Sucking with... | This is a product well wor... |  5.0   |\n",
       "| Stop Pacifier Sucking with... | All of my kids have cried ... |  5.0   |\n",
       "| Stop Pacifier Sucking with... | When the Binky Fairy came ... |  5.0   |\n",
       "| A Tale of Baby's Days with... | Lovely book, it's bound ti... |  4.0   |\n",
       "| Baby Tracker&reg; - Daily ... | Perfect for new parents. W... |  5.0   |\n",
       "| Baby Tracker&reg; - Daily ... | A friend of mine pinned th... |  5.0   |\n",
       "| Baby Tracker&reg; - Daily ... | This has been an easy way ... |  4.0   |\n",
       "| Baby Tracker&reg; - Daily ... | I love this journal and ou... |  4.0   |\n",
       "+-------------------------------+-------------------------------+--------+\n",
       "+-------------------------------+-----------+\n",
       "|           word_count          | sentiment |\n",
       "+-------------------------------+-----------+\n",
       "| {'and': 3, 'love': 1, 'it'... |     1     |\n",
       "| {'and': 2, 'quilt': 1, 'it... |     1     |\n",
       "| {'and': 3, 'ingenious': 1,... |     1     |\n",
       "| {'and': 2, 'all': 2, 'help... |     1     |\n",
       "| {'and': 2, 'cute': 1, 'hel... |     1     |\n",
       "| {'shop': 1, 'be': 1, 'is':... |     1     |\n",
       "| {'and': 2, 'all': 1, 'righ... |     1     |\n",
       "| {'and': 1, 'fantastic': 1,... |     1     |\n",
       "| {'all': 1, 'standarad': 1,... |     1     |\n",
       "| {'all': 2, 'nannys': 1, 'j... |     1     |\n",
       "+-------------------------------+-----------+\n",
       "[166752 rows x 5 columns]\n",
       "Note: Only the head of the SFrame is printed.\n",
       "You can use print_rows(num_rows=m, num_columns=n) to print more rows and columns."
      ]
     },
     "execution_count": 8,
     "metadata": {},
     "output_type": "execute_result"
    }
   ],
   "source": [
    "products['sentiment'] = products['rating'].apply(lambda rating : +1 if rating > 3 else -1)\n",
    "products"
   ]
  },
  {
   "cell_type": "markdown",
   "metadata": {},
   "source": [
    "Now, we can see that the dataset contains an extra column called **sentiment** which is either positive (+1) or negative (-1)."
   ]
  },
  {
   "cell_type": "markdown",
   "metadata": {},
   "source": [
    "## Split data into training and test sets"
   ]
  },
  {
   "cell_type": "markdown",
   "metadata": {},
   "source": [
    "Let's perform a train/test split with 80% of the data in the training set and 20% of the data in the test set. We use `seed=1` so that everyone gets the same result."
   ]
  },
  {
   "cell_type": "code",
   "execution_count": 9,
   "metadata": {
    "collapsed": false
   },
   "outputs": [
    {
     "name": "stdout",
     "output_type": "stream",
     "text": [
      "133416\n",
      "33336\n"
     ]
    }
   ],
   "source": [
    "train_data, test_data = products.random_split(.8, seed=1)\n",
    "print len(train_data)\n",
    "print len(test_data)"
   ]
  },
  {
   "cell_type": "markdown",
   "metadata": {},
   "source": [
    "# Train a sentiment classifier with logistic regression\n",
    "\n",
    "We will now use logistic regression to create a sentiment classifier on the training data. This model will use the column **word_count** as a feature and the column **sentiment** as the target. We will use `validation_set=None` to obtain same results as everyone else.\n",
    "\n",
    "**Note:** This line may take 1-2 minutes."
   ]
  },
  {
   "cell_type": "code",
   "execution_count": 10,
   "metadata": {
    "collapsed": false
   },
   "outputs": [
    {
     "name": "stdout",
     "output_type": "stream",
     "text": [
      "PROGRESS: Logistic regression:\n",
      "PROGRESS: --------------------------------------------------------\n",
      "PROGRESS: Number of examples          : 133416\n",
      "PROGRESS: Number of classes           : 2\n",
      "PROGRESS: Number of feature columns   : 1\n",
      "PROGRESS: Number of unpacked features : 121712\n",
      "PROGRESS: Number of coefficients    : 121713\n",
      "PROGRESS: Starting L-BFGS\n",
      "PROGRESS: --------------------------------------------------------\n",
      "PROGRESS: +-----------+----------+-----------+--------------+-------------------+\n",
      "PROGRESS: | Iteration | Passes   | Step size | Elapsed Time | Training-accuracy |\n",
      "PROGRESS: +-----------+----------+-----------+--------------+-------------------+\n",
      "PROGRESS: | 1         | 5        | 0.000002  | 2.856311     | 0.840754          |\n",
      "PROGRESS: | 2         | 9        | 3.000000  | 4.650658     | 0.931350          |\n",
      "PROGRESS: | 3         | 10       | 3.000000  | 5.338267     | 0.882046          |\n",
      "PROGRESS: | 4         | 11       | 3.000000  | 5.990183     | 0.954076          |\n",
      "PROGRESS: | 5         | 12       | 3.000000  | 6.687525     | 0.960964          |\n",
      "PROGRESS: | 6         | 13       | 3.000000  | 7.388013     | 0.975033          |\n",
      "PROGRESS: +-----------+----------+-----------+--------------+-------------------+\n",
      "PROGRESS: TERMINATED: Terminated due to numerical difficulties.\n",
      "PROGRESS: This model may not be ideal. To improve it, consider doing one of the following:\n",
      "(a) Increasing the regularization.\n",
      "(b) Standardizing the input data.\n",
      "(c) Removing highly correlated features.\n",
      "(d) Removing `inf` and `NaN` values in the training data.\n"
     ]
    }
   ],
   "source": [
    "sentiment_model = graphlab.logistic_classifier.create(train_data,\n",
    "                                                      target = 'sentiment',\n",
    "                                                      features=['word_count'],\n",
    "                                                      validation_set=None)"
   ]
  },
  {
   "cell_type": "code",
   "execution_count": 11,
   "metadata": {
    "collapsed": false,
    "scrolled": true
   },
   "outputs": [
    {
     "data": {
      "text/plain": [
       "Class                         : LogisticClassifier\n",
       "\n",
       "Schema\n",
       "------\n",
       "Number of coefficients        : 121713\n",
       "Number of examples            : 133416\n",
       "Number of classes             : 2\n",
       "Number of feature columns     : 1\n",
       "Number of unpacked features   : 121712\n",
       "\n",
       "Hyperparameters\n",
       "---------------\n",
       "L1 penalty                    : 0.0\n",
       "L2 penalty                    : 0.01\n",
       "\n",
       "Training Summary\n",
       "----------------\n",
       "Solver                        : auto\n",
       "Solver iterations             : 6\n",
       "Solver status                 : TERMINATED: Terminated due to numerical difficulties.\n",
       "Training time (sec)           : 8.0284\n",
       "\n",
       "Settings\n",
       "--------\n",
       "Log-likelihood                : inf\n",
       "\n",
       "Highest Positive Coefficients\n",
       "-----------------------------\n",
       "word_count[mobileupdate]      : 41.9847\n",
       "word_count[placeid]           : 41.7354\n",
       "word_count[labelbox]          : 41.151\n",
       "word_count[httpwwwamazoncomreviewrhgg6qp7tdnhbrefcmcrprcmtieutf8asinb00318cla0nodeid]: 40.0454\n",
       "word_count[knobskeeping]      : 36.2091\n",
       "\n",
       "Lowest Negative Coefficients\n",
       "----------------------------\n",
       "word_count[probelm]           : -44.9283\n",
       "word_count[impulsejeep]       : -43.081\n",
       "word_count[infantsyoung]      : -39.5945\n",
       "word_count[cutereditafter]    : -35.6875\n",
       "word_count[avacado]           : -35.0542"
      ]
     },
     "execution_count": 11,
     "metadata": {},
     "output_type": "execute_result"
    }
   ],
   "source": [
    "sentiment_model"
   ]
  },
  {
   "cell_type": "markdown",
   "metadata": {},
   "source": [
    "**Aside**. You may get an warning to the effect of \"Terminated due to numerical difficulties --- this model may not be ideal\". It means that the quality metric (to be covered in Module 3) failed to improve in the last iteration of the run. The difficulty arises as the sentiment model puts too much weight on extremely rare words. A way to rectify this is to apply regularization, to be covered in Module 4. Regularization lessens the effect of extremely rare words. For the purpose of this assignment, however, please proceed with the model above."
   ]
  },
  {
   "cell_type": "markdown",
   "metadata": {},
   "source": [
    "Now that we have fitted the model, we can extract the weights (coefficients) as an SFrame as follows:"
   ]
  },
  {
   "cell_type": "code",
   "execution_count": 21,
   "metadata": {
    "collapsed": false
   },
   "outputs": [
    {
     "name": "stdout",
     "output_type": "stream",
     "text": [
      "53294\n"
     ]
    }
   ],
   "source": [
    "weights = sentiment_model.coefficients\n",
    "weights.column_names()\n",
    "print len(weights[weights['value']<0])"
   ]
  },
  {
   "cell_type": "markdown",
   "metadata": {},
   "source": [
    "There are a total of `121713` coefficients in the model. Recall from the lecture that positive weights $w_j$ correspond to weights that cause positive sentiment, while negative weights correspond to negative sentiment. \n",
    "\n",
    "Fill in the following block of code to calculate how many *weights* are positive ( >= 0). (**Hint**: The `'value'` column in SFrame *weights* must be positive ( >= 0))."
   ]
  },
  {
   "cell_type": "code",
   "execution_count": 24,
   "metadata": {
    "collapsed": false
   },
   "outputs": [
    {
     "name": "stdout",
     "output_type": "stream",
     "text": [
      "Number of positive weights: 68419 \n",
      "Number of negative weights: 53294 \n"
     ]
    }
   ],
   "source": [
    "num_positive_weights = len(weights[weights['value']>=0])\n",
    "num_negative_weights = len(weights[weights['value']<0])\n",
    "\n",
    "print \"Number of positive weights: %s \" % num_positive_weights\n",
    "print \"Number of negative weights: %s \" % num_negative_weights"
   ]
  },
  {
   "cell_type": "markdown",
   "metadata": {},
   "source": [
    "**Quiz question:** How many weights are >= 0?"
   ]
  },
  {
   "cell_type": "markdown",
   "metadata": {},
   "source": [
    "## Making predictions with logistic regression\n",
    "\n",
    "Now that a model is trained, we can make predictions on the **test data**. In this section, we will explore this in the context of 3 examples in the test dataset.  We refer to this set of 3 examples as the **sample_test_data**."
   ]
  },
  {
   "cell_type": "code",
   "execution_count": 25,
   "metadata": {
    "collapsed": false
   },
   "outputs": [
    {
     "name": "stdout",
     "output_type": "stream",
     "text": [
      "[5.0, 2.0, 1.0]\n"
     ]
    },
    {
     "data": {
      "text/html": [
       "<div style=\"max-height:1000px;max-width:1500px;overflow:auto;\"><table frame=\"box\" rules=\"cols\">\n",
       "    <tr>\n",
       "        <th style=\"padding-left: 1em; padding-right: 1em; text-align: center\">name</th>\n",
       "        <th style=\"padding-left: 1em; padding-right: 1em; text-align: center\">review</th>\n",
       "        <th style=\"padding-left: 1em; padding-right: 1em; text-align: center\">rating</th>\n",
       "        <th style=\"padding-left: 1em; padding-right: 1em; text-align: center\">word_count</th>\n",
       "        <th style=\"padding-left: 1em; padding-right: 1em; text-align: center\">sentiment</th>\n",
       "    </tr>\n",
       "    <tr>\n",
       "        <td style=\"padding-left: 1em; padding-right: 1em; text-align: center; vertical-align: top\">Our Baby Girl Memory Book</td>\n",
       "        <td style=\"padding-left: 1em; padding-right: 1em; text-align: center; vertical-align: top\">Absolutely love it and<br>all of the Scripture in ...</td>\n",
       "        <td style=\"padding-left: 1em; padding-right: 1em; text-align: center; vertical-align: top\">5.0</td>\n",
       "        <td style=\"padding-left: 1em; padding-right: 1em; text-align: center; vertical-align: top\">{'and': 2, 'all': 1,<br>'love': 1, ...</td>\n",
       "        <td style=\"padding-left: 1em; padding-right: 1em; text-align: center; vertical-align: top\">1</td>\n",
       "    </tr>\n",
       "    <tr>\n",
       "        <td style=\"padding-left: 1em; padding-right: 1em; text-align: center; vertical-align: top\">Wall Decor Removable<br>Decal Sticker - Colorful ...</td>\n",
       "        <td style=\"padding-left: 1em; padding-right: 1em; text-align: center; vertical-align: top\">Would not purchase again<br>or recommend. The decals ...</td>\n",
       "        <td style=\"padding-left: 1em; padding-right: 1em; text-align: center; vertical-align: top\">2.0</td>\n",
       "        <td style=\"padding-left: 1em; padding-right: 1em; text-align: center; vertical-align: top\">{'and': 1, 'wall': 1,<br>'them': 1, 'decals': 1, ...</td>\n",
       "        <td style=\"padding-left: 1em; padding-right: 1em; text-align: center; vertical-align: top\">-1</td>\n",
       "    </tr>\n",
       "    <tr>\n",
       "        <td style=\"padding-left: 1em; padding-right: 1em; text-align: center; vertical-align: top\">New Style Trailing Cherry<br>Blossom Tree Decal ...</td>\n",
       "        <td style=\"padding-left: 1em; padding-right: 1em; text-align: center; vertical-align: top\">Was so excited to get<br>this product for my baby ...</td>\n",
       "        <td style=\"padding-left: 1em; padding-right: 1em; text-align: center; vertical-align: top\">1.0</td>\n",
       "        <td style=\"padding-left: 1em; padding-right: 1em; text-align: center; vertical-align: top\">{'all': 1, 'money': 1,<br>'into': 1, 'it': 3, ...</td>\n",
       "        <td style=\"padding-left: 1em; padding-right: 1em; text-align: center; vertical-align: top\">-1</td>\n",
       "    </tr>\n",
       "</table>\n",
       "[3 rows x 5 columns]<br/>\n",
       "</div>"
      ],
      "text/plain": [
       "Columns:\n",
       "\tname\tstr\n",
       "\treview\tstr\n",
       "\trating\tfloat\n",
       "\tword_count\tdict\n",
       "\tsentiment\tint\n",
       "\n",
       "Rows: 3\n",
       "\n",
       "Data:\n",
       "+-------------------------------+-------------------------------+--------+\n",
       "|              name             |             review            | rating |\n",
       "+-------------------------------+-------------------------------+--------+\n",
       "|   Our Baby Girl Memory Book   | Absolutely love it and all... |  5.0   |\n",
       "| Wall Decor Removable Decal... | Would not purchase again o... |  2.0   |\n",
       "| New Style Trailing Cherry ... | Was so excited to get this... |  1.0   |\n",
       "+-------------------------------+-------------------------------+--------+\n",
       "+-------------------------------+-----------+\n",
       "|           word_count          | sentiment |\n",
       "+-------------------------------+-----------+\n",
       "| {'and': 2, 'all': 1, 'love... |     1     |\n",
       "| {'and': 1, 'wall': 1, 'the... |     -1    |\n",
       "| {'all': 1, 'money': 1, 'in... |     -1    |\n",
       "+-------------------------------+-----------+\n",
       "[3 rows x 5 columns]"
      ]
     },
     "execution_count": 25,
     "metadata": {},
     "output_type": "execute_result"
    }
   ],
   "source": [
    "sample_test_data = test_data[10:13]\n",
    "print sample_test_data['rating']\n",
    "sample_test_data"
   ]
  },
  {
   "cell_type": "markdown",
   "metadata": {},
   "source": [
    "Let's dig deeper into the first row of the **sample_test_data**. Here's the full review:"
   ]
  },
  {
   "cell_type": "code",
   "execution_count": 26,
   "metadata": {
    "collapsed": false
   },
   "outputs": [
    {
     "data": {
      "text/plain": [
       "'Absolutely love it and all of the Scripture in it.  I purchased the Baby Boy version for my grandson when he was born and my daughter-in-law was thrilled to receive the same book again.'"
      ]
     },
     "execution_count": 26,
     "metadata": {},
     "output_type": "execute_result"
    }
   ],
   "source": [
    "sample_test_data[0]['review']"
   ]
  },
  {
   "cell_type": "markdown",
   "metadata": {},
   "source": [
    "That review seems pretty positive.\n",
    "\n",
    "Now, let's see what the next row of the **sample_test_data** looks like. As we could guess from the sentiment (-1), the review is quite negative."
   ]
  },
  {
   "cell_type": "code",
   "execution_count": 27,
   "metadata": {
    "collapsed": false
   },
   "outputs": [
    {
     "data": {
      "text/plain": [
       "'Would not purchase again or recommend. The decals were thick almost plastic like and were coming off the wall as I was applying them! The would NOT stick! Literally stayed stuck for about 5 minutes then started peeling off.'"
      ]
     },
     "execution_count": 27,
     "metadata": {},
     "output_type": "execute_result"
    }
   ],
   "source": [
    "sample_test_data[1]['review']"
   ]
  },
  {
   "cell_type": "markdown",
   "metadata": {},
   "source": [
    "We will now make a **class** prediction for the **sample_test_data**. The `sentiment_model` should predict **+1** if the sentiment is positive and **-1** if the sentiment is negative. Recall from the lecture that the **score** (sometimes called **margin**) for the logistic regression model  is defined as:\n",
    "\n",
    "$$\n",
    "\\mbox{score}_i = \\mathbf{w}^T h(\\mathbf{x}_i)\n",
    "$$ \n",
    "\n",
    "where $h(\\mathbf{x}_i)$ represents the features for example $i$.  We will write some code to obtain the **scores** using GraphLab Create. For each row, the **score** (or margin) is a number in the range **[-inf, inf]**."
   ]
  },
  {
   "cell_type": "code",
   "execution_count": 28,
   "metadata": {
    "collapsed": false
   },
   "outputs": [
    {
     "name": "stdout",
     "output_type": "stream",
     "text": [
      "[6.734619727060016, -5.734130996760761, -14.668460404469295]\n"
     ]
    }
   ],
   "source": [
    "scores = sentiment_model.predict(sample_test_data, output_type='margin')\n",
    "print scores"
   ]
  },
  {
   "cell_type": "markdown",
   "metadata": {},
   "source": [
    "### Predicting sentiment\n",
    "\n",
    "These scores can be used to make class predictions as follows:\n",
    "\n",
    "$$\n",
    "\\hat{y} = \n",
    "\\left\\{\n",
    "\\begin{array}{ll}\n",
    "      +1 & \\mathbf{w}^T h(\\mathbf{x}_i) > 0 \\\\\n",
    "      -1 & \\mathbf{w}^T h(\\mathbf{x}_i) \\leq 0 \\\\\n",
    "\\end{array} \n",
    "\\right.\n",
    "$$\n",
    "\n",
    "Using scores, write code to calculate $\\hat{y}$, the class predictions:"
   ]
  },
  {
   "cell_type": "code",
   "execution_count": 34,
   "metadata": {
    "collapsed": false
   },
   "outputs": [
    {
     "name": "stdout",
     "output_type": "stream",
     "text": [
      "[1, -1, -1]\n"
     ]
    }
   ],
   "source": [
    "def predict_score(scores):\n",
    "    sentiment = []\n",
    "    length = len(scores)\n",
    "    for i in range(length):\n",
    "        if scores[i]>=0:\n",
    "            sentiment.append(1)\n",
    "        else:\n",
    "            sentiment.append(-1)\n",
    "    return sentiment\n",
    "\n",
    "print predict_score(scores)\n"
   ]
  },
  {
   "cell_type": "markdown",
   "metadata": {},
   "source": [
    "Run the following code to verify that the class predictions obtained by your calculations are the same as that obtained from GraphLab Create."
   ]
  },
  {
   "cell_type": "code",
   "execution_count": 29,
   "metadata": {
    "collapsed": false
   },
   "outputs": [
    {
     "name": "stdout",
     "output_type": "stream",
     "text": [
      "Class predictions according to GraphLab Create:\n",
      "[1, -1, -1]\n"
     ]
    }
   ],
   "source": [
    "print \"Class predictions according to GraphLab Create:\" \n",
    "print sentiment_model.predict(sample_test_data)"
   ]
  },
  {
   "cell_type": "markdown",
   "metadata": {},
   "source": [
    "**Checkpoint**: Make sure your class predictions match with the one obtained from GraphLab Create.\n",
    "\n",
    "### Probability predictions\n",
    "\n",
    "Recall from the lectures that we can also calculate the probability predictions from the scores using:\n",
    "$$\n",
    "P(y_i = +1 | \\mathbf{x}_i,\\mathbf{w}) = \\frac{1}{1 + \\exp(-\\mathbf{w}^T h(\\mathbf{x}_i))}.\n",
    "$$\n",
    "\n",
    "Using the variable **scores** calculated previously, write code to calculate the probability that a sentiment is positive using the above formula. For each row, the probabilities should be a number in the range **[0, 1]**."
   ]
  },
  {
   "cell_type": "code",
   "execution_count": 39,
   "metadata": {
    "collapsed": false
   },
   "outputs": [
    {
     "name": "stdout",
     "output_type": "stream",
     "text": [
      "[0.9988123848377207, 0.003223268181799063, 4.2615579966521124e-07]\n"
     ]
    }
   ],
   "source": [
    "from  math import exp\n",
    "def predict_probability(scores):\n",
    "    probability = []\n",
    "    length = len(scores)\n",
    "    for i in range(length):\n",
    "        probability_score = 1/(1 + exp(-scores[i]))\n",
    "        probability.append(probability_score)\n",
    "    return probability\n",
    "\n",
    "print predict_probability(scores)"
   ]
  },
  {
   "cell_type": "markdown",
   "metadata": {},
   "source": [
    "**Checkpoint**: Make sure your probability predictions match the ones obtained from GraphLab Create."
   ]
  },
  {
   "cell_type": "code",
   "execution_count": 40,
   "metadata": {
    "collapsed": false
   },
   "outputs": [
    {
     "name": "stdout",
     "output_type": "stream",
     "text": [
      "Class predictions according to GraphLab Create:\n",
      "[0.9988123848377206, 0.003223268181799062, 4.26155799665211e-07]\n"
     ]
    }
   ],
   "source": [
    "print \"Class predictions according to GraphLab Create:\" \n",
    "print sentiment_model.predict(sample_test_data, output_type='probability')"
   ]
  },
  {
   "cell_type": "markdown",
   "metadata": {},
   "source": [
    "** Quiz Question:** Of the three data points in **sample_test_data**, which one (first, second, or third) has the **lowest probability** of being classified as a positive review?"
   ]
  },
  {
   "cell_type": "markdown",
   "metadata": {},
   "source": [
    "# Find the most positive (and negative) review"
   ]
  },
  {
   "cell_type": "markdown",
   "metadata": {},
   "source": [
    "We now turn to examining the full test dataset, **test_data**, and use GraphLab Create to form predictions on all of the test data points for faster performance.\n",
    "\n",
    "Using the `sentiment_model`, find the 20 reviews in the entire **test_data** with the **highest probability** of being classified as a **positive review**. We refer to these as the \"most positive reviews.\"\n",
    "\n",
    "To calculate these top-20 reviews, use the following steps:\n",
    "1.  Make probability predictions on **test_data** using the `sentiment_model`. (**Hint:** When you call `.predict` to make predictions on the test data, use option `output_type='probability'` to output the probability rather than just the most likely class.)\n",
    "2.  Sort the data according to those predictions and pick the top 20. (**Hint:** You can use the `.topk` method on an SFrame to find the top k rows sorted according to the value of a specified column.)"
   ]
  },
  {
   "cell_type": "code",
   "execution_count": 124,
   "metadata": {
    "collapsed": false
   },
   "outputs": [
    {
     "name": "stdout",
     "output_type": "stream",
     "text": [
      "+-----------------------------------------------------------------------------------------------------------------------------+\n",
      "|                                                             name                                                            |\n",
      "+-----------------------------------------------------------------------------------------------------------------------------+\n",
      "|                                        Britax Decathlon Convertible Car Seat, Tiffany                                       |\n",
      "|                                          Ameda Purely Yours Breast Pump - Carry All                                         |\n",
      "|                                         Traveling Toddler Car Seat Travel Accessory                                         |\n",
      "|                                       Shermag Glider Rocker Combo, Pecan with Oatmeal                                       |\n",
      "|                                          Cloud b Sound Machine Soother, Sleep Sheep                                         |\n",
      "|                                           JP Lizzy Chocolate Ice Classic Tote Set                                           |\n",
      "|                                    Fisher-Price Rainforest Melodies and Lights Deluxe Gym                                   |\n",
      "| Lilly Gold Sit 'n' Stroll 5 in 1 Car Seat and Stroller Combination, Tuxedo Black (sunshade is not included in the offering) |\n",
      "|                                                 Fisher-Price Deluxe Jumperoo                                                |\n",
      "|                                 North States Supergate Pressure Mount Clear Choice Wood Gate                                |\n",
      "|                                                  Munchkin Mozart Magic Cube                                                 |\n",
      "|                                        Britax Marathon Convertible Car Seat, Granite                                        |\n",
      "|                                   Wizard Convertible Car Seat with LATCH in Midnight Print                                  |\n",
      "|                                                  Capri Stroller - Red Tech                                                  |\n",
      "|                       Peg Perego Primo Viaggio Car Seat / Infant Carrier with LATCH Base - Black Sable                      |\n",
      "|                                HALO SleepSack Micro-Fleece Wearable Blanket, Soft Pink, Small                               |\n",
      "|                                              Leachco Snoogle Total Body Pillow                                              |\n",
      "|                                           Summer Infant Complete Nursery Care Kit                                           |\n",
      "|                                            Safety 1st Tot-Lok Four Lock Assembly                                            |\n",
      "|                                                 BABYBJORN Potty Chair - Red                                                 |\n",
      "+-----------------------------------------------------------------------------------------------------------------------------+\n",
      "+-------------------------------------------------------------------------------------------------------------------------------------------------------------------------------------+\n",
      "|                                                                                        review                                                                                       |\n",
      "+-------------------------------------------------------------------------------------------------------------------------------------------------------------------------------------+\n",
      "| I researched a few different seats to put in our new Odyssey van in September (07). Our daughter just turned two and we wanted to get a new car seat for her so her Evenflo Triu... |\n",
      "| As with many new moms, I considered both the Ameda Purely Yours and the Medela Pump in Style when choosing a personal use breast pump. I ultimately chose the Ameda over the Med... |\n",
      "| I am sure this product works great if you have an upright toddler car seat (like the one shown in the photo).  If you have an infant car seat however (we have the Graco Snugrid... |\n",
      "| After searching in stores and online, we decided on this glider & ottoman for our soon-to-be baby's nursery. We purchased it from HealthCheckSystems.com b/c they offered the lo... |\n",
      "| First off, I love plush sheep. I had a few plush sheep when I was a little girl, and they were my favorite.I got this sleep sheep for my daughter second-hand while I was still ... |\n",
      "| I got this bag as a present when my daughter was born four years ago.  I have taken this bag EVERYWHERE.  At the beginning it stayed pretty clean but after four years the fabri... |\n",
      "| My daughter wasn't able to interact much with this toy until about 4 months old, but before then she did still enjoy looking around the gym, staring at the brightly colored fla... |\n",
      "| I just completed a two-month, cross-country trip to 5 states with 12 airline flights with my son as we visited family and friends.  He is now 6 months old. When we started, he ... |\n",
      "| I had already decided that I wanted this for my baby before she was born! I had used the Jolly Jumpers that hang from the doorframes with my other children, however, due to the... |\n",
      "| I got a couple of these to corral my new puppy in the kitchen area of our house. They work great for that. However, I am 5'7\", not short, and sometimes it can be difficult to s... |\n",
      "| My wife and I have been living with these 8 tunes for the last 4 months with our 7 mos. old.  He was attracted to the noise and lights from the outset, and it remains his favor... |\n",
      "| My son began using the Marathon when he was 5-weeks old. He is now a little over 3-years old and is still in it. My little guy is big- nearing 50 lbs. and well over 3-feet tall... |\n",
      "| My son was born big and remains in the 90th percentile in height at 20 months old.  I had the Graco infant car seat from day one, but my son started to hate being in it by the ... |\n",
      "| First let me say that I was looking for a lite weight stroller so that I could travel with my 8 month old son around town catching a bus and a ferry boat while my husband is at... |\n",
      "| We have been using this seat for a year now (baby just turned one year) and its finally time to move him to a infant/toddler car seat.  We have been very lucky with our baby to... |\n",
      "| I love the Sleepsack wearable blanket! I've used it for my son since he was about 2 months old, maybe even earlier. He is now 6 months. Also, my sister has been using these for... |\n",
      "| I have had my Snoogle for about 12 hours and I am IN LOVE with it!!! Last month I had an emergency appendectomy and needed something to replace an L shaped pillow that had rece... |\n",
      "| This Nursery and Bath Care Set contains a number of highly useful baby items stored in a case that's compact and sturdy enough for regular travel.  Our son recently turned two ... |\n",
      "| I have a wooden desk that seemed to be unchildproofable! I tried several different latch-style locks but nothing would fit because of the way the desk is built. I read some rev... |\n",
      "| Our family is just starting EC (elimination communication) with our 5 month old son.  I take it back, we're coming back to it after a break due to some other events in the fami... |\n",
      "+-------------------------------------------------------------------------------------------------------------------------------------------------------------------------------------+\n",
      "+--------+\n",
      "| rating |\n",
      "+--------+\n",
      "|  4.0   |\n",
      "|  4.0   |\n",
      "|  2.0   |\n",
      "|  4.0   |\n",
      "|  5.0   |\n",
      "|  4.0   |\n",
      "|  5.0   |\n",
      "|  5.0   |\n",
      "|  5.0   |\n",
      "|  4.0   |\n",
      "|  4.0   |\n",
      "|  5.0   |\n",
      "|  5.0   |\n",
      "|  4.0   |\n",
      "|  5.0   |\n",
      "|  5.0   |\n",
      "|  5.0   |\n",
      "|  4.0   |\n",
      "|  5.0   |\n",
      "|  5.0   |\n",
      "+--------+\n",
      "+-------------------------------------------------------------------------------------------------------------------------------------------------------------------------------------+\n",
      "|                                                                                      word_count                                                                                     |\n",
      "+-------------------------------------------------------------------------------------------------------------------------------------------------------------------------------------+\n",
      "| {'all': 1, 'toted': 1, 'untwist': 1, 'skin': 1, 'go': 3, 'chair': 2, 'children': 1, 'seemed': 1, 'lean': 1, 'to': 27, 'worth': 1, 'outside': 1, 'heavyduty': 1, 'every': 1, 'lev... |\n",
      "| {'lansinoh': 1, 'six': 1, 'shield': 1, 'just': 2, 'less': 2, 'being': 1, 'able': 1, 'over': 4, 'both': 2, 'valuable': 1, 'bring': 1, 'disc': 1, 'maternity': 1, 'pump': 12, 'spe... |\n",
      "| {'all': 1, 'just': 1, 'photo': 1, 'child': 1, 'infant': 2, 'through': 1, 'still': 1, 'find': 1, 'secure': 1, 'to': 6, 'only': 2, 'has': 2, 'hope': 1, 'do': 1, 'good': 1, 'they'... |\n",
      "| {'spotclean': 1, 'code': 1, 'stores': 1, 'lighter': 1, 'just': 1, 'being': 1, 'able': 1, 'taller': 1, 'rest': 1, 'stability': 1, 'abilities': 1, 'including': 1, 'looks': 1, 'ot... |\n",
      "| {'cute': 1, 'all': 2, 'set': 1, 'just': 1, 'over': 1, 'velcro': 3, 'rotated': 1, 'rest': 1, 'four': 1, 'held': 1, 'colors': 1, 'through': 1, 'corner': 1, 'still': 3, 'wash': 1,... |\n",
      "| {'knot': 1, 'just': 4, 'being': 1, 'hooks': 1, 'both': 1, 'years': 3, 'four': 3, 'held': 2, 'isnt': 1, 'through': 1, 'still': 1, 'fine': 1, 'its': 2, 'help': 1, 'perfect': 1, '... |\n",
      "| {'cute': 1, 'all': 3, 'set': 1, 'just': 1, 'playtimes': 1, 'discovered': 1, 'baby': 1, 'faces': 1, 'talks': 1, 'smiling': 1, 'still': 2, 'tattooed': 1, 'yet': 1, 'before': 1, '... |\n",
      "| {'son': 2, 'infant': 1, 'just': 1, 'when': 4, 'tripthe': 1, 'through': 2, 'mentioned': 1, 'still': 1, 'to': 15, 'one': 4, 'equipment': 1, 'airportsi': 1, 'fit': 1, 'tight': 1, ... |\n",
      "| {'all': 1, 'just': 1, 'saves': 1, 'baby': 3, 'hanging': 1, 'still': 1, 'children': 2, 'before': 1, 'also': 1, 'had': 2, 'young': 1, 'to': 11, '4': 2, 'has': 3, 'mommy': 1, 'rea... |\n",
      "| {'gates': 5, 'just': 1, 'rating': 1, 'over': 3, 'cries': 1, 'shape': 1, 'still': 3, 'fine': 1, 'perfect': 1, 'one': 1, 'mistreated': 1, 'pups': 1, 'actually': 1, 'better': 1, '... |\n",
      "| {'rating': 1, 'all': 2, 'delightfulthere': 1, 'rounded': 1, 'just': 2, 'less': 1, 'over': 2, 'both': 1, 'outset': 1, 'month': 1, 'batteries': 1, 'handinhand': 1, 'mentioned': 1... |\n",
      "| {'infant': 1, 'over': 2, 'underside': 1, 'seats': 4, 'reviewer': 1, 'still': 2, 'children': 1, 'before': 2, 'one': 1, 'believe': 2, 'system': 1, 'had': 1, 'him': 1, 'forbid': 1... |\n",
      "| {'son': 4, 'all': 1, 'decide': 1, 'just': 1, 'being': 2, 'over': 2, 'excellent': 1, 'dollar': 1, 'infant': 1, 'years': 2, 'top': 1, 'woth': 1, 'seats': 1, 'still': 2, 'hate': 1... |\n",
      "| {'son': 3, 'longer': 1, 'infant': 1, 'breaking': 1, 'just': 1, 'satisfied': 1, 'other': 1, 'years': 1, 'padded': 2, 'assembling': 1, 'greatand': 1, 'still': 1, 'its': 3, 'dont'... |\n",
      "| {'all': 1, 'just': 2, 'move': 1, 'through': 1, 'looks': 1, 'seats': 1, 'still': 2, 'its': 1, 'before': 1, 'perfect': 1, 'thank': 1, 'actually': 3, 'to': 8, 'finally': 1, 'easy'... |\n",
      "| {'all': 1, 'just': 2, 'food': 1, 'over': 1, 'years': 1, 'through': 1, 'go': 1, 'still': 1, 'fine': 1, 'wearable': 1, 'now': 2, 'seems': 2, 'to': 12, 'covered': 1, 'has': 1, 'wo... |\n",
      "| {'saying': 1, 'help': 1, 'just': 5, 'collapses': 1, 'month': 1, 'versatilityat': 1, 'ended': 1, 'shape': 1, 'through': 2, 'during': 1, 'still': 1, 'find': 2, 'perfect': 1, 'try... |\n",
      "| {'son': 1, 'set': 2, 'help': 1, 'less': 1, 'accurate': 2, 'top': 1, 'years': 1, 'upright': 1, 'held': 1, 'nursery': 2, 'still': 1, 'fine': 1, 'its': 4, 'before': 1, 'compact': ... |\n",
      "| {'saying': 1, 'all': 1, 'over': 1, 'anyway': 1, 'four': 1, 'seemed': 1, 'fit': 1, 'also': 1, 'to': 11, 'tape': 2, 'easier': 1, 'do': 1, 'them': 2, 'sitting': 1, 'read': 2, 'lat... |\n",
      "| {'managed': 1, 'just': 3, 'being': 3, 'over': 2, 'particular': 1, 'month': 2, 'enjoyable': 1, 'course': 1, 'isnt': 1, 'go': 1, 'useful': 2, 'chair': 4, 'find': 1, 'move': 1, 'c... |\n",
      "+-------------------------------------------------------------------------------------------------------------------------------------------------------------------------------------+\n",
      "+-----------+--------+-----------------------------------------------------------------------------------------------------------------------------+\n",
      "| sentiment | scores |                                                      word_count_subset                                                      |\n",
      "+-----------+--------+-----------------------------------------------------------------------------------------------------------------------------+\n",
      "|     1     |  1.0   |                       {'even': 2, 'little': 2, 'love': 1, 'would': 4, 'car': 7, 'well': 2, 'easy': 2}                       |\n",
      "|     1     |  1.0   |                     {'perfect': 1, 'great': 2, 'would': 5, 'less': 2, 'work': 5, 'able': 1, 'little': 1}                    |\n",
      "|     -1    |  1.0   |                                 {'car': 6, 'great': 1, 'work': 2, 'product': 4, 'would': 3}                                 |\n",
      "|     1     |  1.0   |                                {'perfect': 1, 'well': 1, 'product': 1, 'able': 1, 'easy': 2}                                |\n",
      "|     1     |  1.0   |                                  {'love': 1, 'great': 4, 'old': 1, 'little': 1, 'would': 2}                                 |\n",
      "|     1     |  1.0   |                     {'perfect': 1, 'even': 1, 'little': 2, 'love': 1, 'would': 2, 'well': 1, 'great': 6}                    |\n",
      "|     1     |  1.0   | {'even': 2, 'great': 2, 'old': 2, 'loves': 1, 'would': 3, 'money': 1, 'able': 1, 'little': 2, 'easy': 1, 'disappointed': 1} |\n",
      "|     1     |  1.0   |                      {'product': 1, 'old': 2, 'would': 3, 'car': 1, 'able': 2, 'little': 2, 'easy': 2}                      |\n",
      "|     1     |  1.0   |                                  {'love': 1, 'great': 2, 'work': 1, 'well': 1, 'little': 1}                                 |\n",
      "|     1     |  1.0   |                                       {'perfect': 1, 'great': 4, 'work': 2, 'easy': 1}                                      |\n",
      "|     1     |  1.0   |                                  {'well': 2, 'little': 1, 'old': 1, 'would': 3, 'less': 1}                                  |\n",
      "|     1     |  1.0   |                              {'little': 2, 'old': 2, 'car': 8, 'well': 1, 'easy': 1, 'love': 1}                             |\n",
      "|     1     |  1.0   |            {'even': 1, 'little': 1, 'old': 1, 'would': 2, 'car': 11, 'well': 1, 'great': 2, 'easy': 1, 'love': 1}           |\n",
      "|     1     |  1.0   |                       {'even': 1, 'little': 3, 'love': 2, 'work': 1, 'great': 2, 'easy': 1, 'old': 1}                       |\n",
      "|     1     |  1.0   |               {'perfect': 1, 'even': 1, 'great': 1, 'love': 1, 'would': 1, 'car': 4, 'product': 1, 'easy': 2}               |\n",
      "|     1     |  1.0   |                      {'even': 1, 'product': 2, 'love': 2, 'would': 1, 'well': 1, 'little': 1, 'old': 2}                     |\n",
      "|     1     |  1.0   |               {'even': 1, 'perfect': 1, 'great': 2, 'love': 1, 'loves': 1, 'well': 1, 'little': 1, 'easy': 1}               |\n",
      "|     1     |  1.0   |                                             {'little': 1, 'well': 2, 'less': 1}                                             |\n",
      "|     1     |  1.0   |                                                  {'little': 2, 'would': 1}                                                  |\n",
      "|     1     |  1.0   |                  {'little': 2, 'old': 4, 'would': 2, 'car': 1, 'work': 2, 'great': 2, 'easy': 4, 'love': 1}                 |\n",
      "+-----------+--------+-----------------------------------------------------------------------------------------------------------------------------+\n",
      "[20 rows x 7 columns]\n",
      "\n",
      "None\n"
     ]
    }
   ],
   "source": [
    "test_data['scores'] = sentiment_model.predict(test_data, output_type='probability')\n",
    "print test_data.topk('scores',k=20,reverse=False).print_rows(num_rows=20,max_column_width=180)"
   ]
  },
  {
   "cell_type": "markdown",
   "metadata": {},
   "source": [
    "**Quiz Question**: Which of the following products are represented in the 20 most positive reviews? [multiple choice]\n",
    "\n",
    "\n",
    "Now, let us repeat this excercise to find the \"most negative reviews.\" Use the prediction probabilities to find the  20 reviews in the **test_data** with the **lowest probability** of being classified as a **positive review**. Repeat the same steps above but make sure you **sort in the opposite order**."
   ]
  },
  {
   "cell_type": "code",
   "execution_count": 126,
   "metadata": {
    "collapsed": false,
    "scrolled": true
   },
   "outputs": [
    {
     "name": "stdout",
     "output_type": "stream",
     "text": [
      "+--------------------------------------------------------------------------------------------------------+\n",
      "|                                                  name                                                  |\n",
      "+--------------------------------------------------------------------------------------------------------+\n",
      "|                      Jolly Jumper Arctic Sneak A Peek Infant Car Seat Cover Black                      |\n",
      "| Levana Safe N'See Digital Video Baby Monitor with Talk-to-Baby Intercom and Lullaby Control (LV-TW501) |\n",
      "|                                  Snuza Portable Baby Movement Monitor                                  |\n",
      "|                              Fisher-Price Ocean Wonders Aquarium Bouncer                               |\n",
      "|               VTech Communications Safe &amp; Sounds Full Color Video and Audio Monitor                |\n",
      "|                                  Safety 1st High-Def Digital Monitor                                   |\n",
      "|                          Chicco Cortina KeyFit 30 Travel System in Adventure                           |\n",
      "|                                 Prince Lionheart Warmies Wipes Warmer                                  |\n",
      "|                          Valco Baby Tri-mode Twin Stroller EX- Hot Chocolate                           |\n",
      "|          Adiri BPA Free Natural Nurser Ultimate Bottle Stage 1 White, Slow Flow (0-3 months)           |\n",
      "|                           Munchkin Nursery Projector and Sound System, White                           |\n",
      "|                The First Years True Choice P400 Premium Digital Monitor, 2 Parent Unit                 |\n",
      "|                Nuby Natural Touch Silicone Travel Infa Feeder, Colors May Vary, 3 Ounce                |\n",
      "|                               Peg-Perego Tatamia High Chair, White Latte                               |\n",
      "|                                        Fisher-Price Royal Potty                                        |\n",
      "|                             Safety 1st Exchangeable Tip 3 in 1 Thermometer                             |\n",
      "|                                  Safety 1st Lift Lock and Swing Gate                                   |\n",
      "|                        Evenflo Take Me Too Premiere Tandem Stroller - Castlebay                        |\n",
      "|                                 Cloth Diaper Sprayer--styles may vary                                  |\n",
      "|                           The First Years 3 Pack Breastflow Bottle, 9 Ounce                            |\n",
      "+--------------------------------------------------------------------------------------------------------+\n",
      "+-------------------------------------------------------------------------------------------------------------------------------------------------------------------------------------+\n",
      "|                                                                                        review                                                                                       |\n",
      "+-------------------------------------------------------------------------------------------------------------------------------------------------------------------------------------+\n",
      "| I am a \"research-aholic\" in general and have researched many different baby products over the past 5 years due to being a mother of 3 and wanting to get the best for the price ... |\n",
      "| This is the first review I have ever written out of the many things I have purchased through amazon.  I write this because I feel very strongly about the poor quality levana pr... |\n",
      "| I would have given the product 4 stars for while it worked but am only giving it 1 based on the horrible customer service.  Other than some false alarms the product had worked ... |\n",
      "| We have not had ANY luck with Fisher-Price products.  When this P.O.S. worked for about 6 short weeks though, it was a good product.  Ours broke without warning, and now the aq... |\n",
      "| This is my second video monitoring system, the first being a Summer Infant Day and Night that we purchased in 2010 when our first child was born.  The Summer Infant model was (... |\n",
      "| We bought this baby monitor to replace a different kind that had stopped working.  When it arrived, I liked it's sleek and modern design.  However, that was about all I liked a... |\n",
      "| My wife and I have used this system in two cars for a little over a month.  The two cars are a 08 MDX and a 2011 Subaru Forester.  Both have a ton of room in the back.First, th... |\n",
      "| *****IMPORTANT UPDATE*****I went to move my sons room around the other day. When I unplugged the unit I noticed that the adapter was BURNT! Yes, burnt! The scariest thing about... |\n",
      "| I give one star to the dimension: 1. being 29 inches wide, it goes through most of the doors 2. The fold is compact (read along for the prob with the fold though) and fits the ... |\n",
      "| I will try to write an objective review of the bottle itself - as much as I can. For that let me start out with the premise: whether or not your baby takes the bottle or not ha... |\n",
      "| Updated January 3, 2014.  I received a new one of these and this one won't stay shut off.  Turns on and runs great, but when you turn off the sound and projection, they come ba... |\n",
      "| Note: we never installed batteries in these units, preferring to plug them all into AC sockets. So none of this has anything to do with low batteries!!We bought this unit from ... |\n",
      "| I'm honestly confused by so many positive reviews as this was one of the most useless baby products I've owned.I bought this thinking it would be great for restaurants and trav... |\n",
      "| I ordered this high chair with the brown seat cover in March for my youngest, who was two months old at the time, and began using it when she was five months old. I am an exper... |\n",
      "| This was the worst potty ever. I bought it for my 2 year old son cause it looked different & it looked like it would be more fun but its the worst.  Everytime he pees it leakes... |\n",
      "| I thought it sounded great to have different tips for different body areas.  But it's impossible to keep my son still enough to get a reading with the underarm one and I've got... |\n",
      "| Don't buy this product. If I could give this gate a negative star I could. Safety 1st products tend to be a hit or miss. They saturate the baby market but their products are po... |\n",
      "| I am absolutely disgusted with this product.  I could kick myself, though, because I read reviews stating problems with the wheels, but I went ahead and bought this item, anywa... |\n",
      "| I bought this sprayer out of desperation during a period of time in which I was experiencing a cloth diaperer's worst nightmare.  An older toddler in diapers and a very new pre... |\n",
      "| I purchased several of these bottles/nipples after we started daycare and my daughter was getting nipple confusion from the Gerbers that fit onto my pump.  At first, I was very... |\n",
      "+-------------------------------------------------------------------------------------------------------------------------------------------------------------------------------------+\n",
      "+--------+\n",
      "| rating |\n",
      "+--------+\n",
      "|  5.0   |\n",
      "|  1.0   |\n",
      "|  1.0   |\n",
      "|  2.0   |\n",
      "|  1.0   |\n",
      "|  1.0   |\n",
      "|  1.0   |\n",
      "|  1.0   |\n",
      "|  1.0   |\n",
      "|  2.0   |\n",
      "|  1.0   |\n",
      "|  1.0   |\n",
      "|  1.0   |\n",
      "|  1.0   |\n",
      "|  1.0   |\n",
      "|  1.0   |\n",
      "|  1.0   |\n",
      "|  1.0   |\n",
      "|  1.0   |\n",
      "|  1.0   |\n",
      "+--------+\n",
      "+-------------------------------------------------------------------------------------------------------------------------------------------------------------------------------------+\n",
      "|                                                                                      word_count                                                                                     |\n",
      "+-------------------------------------------------------------------------------------------------------------------------------------------------------------------------------------+\n",
      "| {'raining': 1, 'all': 8, 'reviewers': 1, 'child': 4, 'go': 3, 'jolly': 1, 'improperly': 1, 'synthetic': 1, 'removal': 1, 'to': 37, 'under': 3, 'worth': 3, 'jjcis': 1, 'lites': ... |\n",
      "| {'all': 2, 'just': 1, 'being': 1, 'generally': 1, 'roomi': 1, 'via': 1, 'sleep': 1, 'fooled': 1, 'still': 1, 'assembled': 1, 'seemed': 1, 'write': 1, '20': 1, 'monitor': 7, 'th... |\n",
      "| {'contacted': 1, 'being': 1, 'money': 1, 'lack': 1, 'malfunctioned': 1, 'batteries': 1, 'poorly': 1, 'based': 1, 'just': 2, 'thinking': 1, 'with': 2, 'had': 1, 'actually': 1, '... |\n",
      "| {'fishstarfish': 1, 'all': 5, 'managed': 1, 'just': 1, 'from': 1, 'over': 1, 'hands': 1, 'infant': 2, 'month': 1, 'immediately': 2, 'mentioned': 1, '122006': 1, 'line': 1, 'had... |\n",
      "| {'all': 4, 'reviewers': 1, 'beware': 1, 'eternally': 1, 'four': 2, 'baby': 1, 'nursery': 1, 'seemed': 1, 'to': 26, 'charge': 1, 'does': 4, 'under': 1, 'sound': 8, 'worse': 2, '... |\n",
      "| {'all': 3, 'being': 1, 'over': 2, 'unacceptable': 1, 'sleek': 1, 'held': 1, 'bright': 2, 'using': 1, 'its': 2, 'unplugged': 3, 'monitor': 5, 'goodthats': 1, 'herself': 1, 'flas... |\n",
      "| {'all': 4, 'wrestle': 1, 'overpriced': 1, 'just': 2, 'storage': 1, 'over': 3, 'both': 3, 'installed': 1, 'seen': 2, 'not': 7, 'isnt': 1, 'groceries': 1, '08': 1, 'go': 2, 'back... |\n",
      "| {'less': 1, 'move': 1, 'not': 4, 'yes': 1, 'children': 1, 'unplugged': 1, 'how': 2, 'continued': 1, 'concerned': 2, 'should': 1, 'to': 8, 'happened': 1, 'do': 1, 'customers': 1... |\n",
      "| {'limited': 2, 'forget': 1, 'switched': 1, 'month': 1, 'washi': 1, 'go': 3, 'awayit': 1, 'compact': 1, 'supposedly': 1, 'jogger': 1, 'glides': 1, 'to': 28, 'charge': 1, 'under'... |\n",
      "| {'all': 2, 'forget': 1, 'grateful': 1, 'morei': 1, 'causes': 2, 'feeding': 3, 'disorders': 1, 'to': 29, 'under': 2, 'include': 1, 'worth': 1, 'very': 10, 'minute': 1, 'hisher':... |\n",
      "| {'son': 1, 'all': 2, 'set': 1, 'just': 1, 'money': 1, 'projection': 6, 'now': 1, 'soundspa': 1, 'thank': 1, 'seriously': 1, 'to': 6, 'only': 1, '4': 1, '2014': 1, 'save': 1, 's... |\n",
      "| {'all': 3, 'go': 1, 'powercycling': 1, 'poorly': 1, 'to': 23, 'worth': 1, 'indicating': 3, 'worse': 2, 'very': 4, 'every': 1, 'jack': 1, 'level': 2, 'did': 3, 'small': 1, 'deal... |\n",
      "| {'now': 1, 'just': 3, 'being': 1, 'money': 1, 'all': 2, 'month': 1, 'ended': 1, 'feeding': 2, 'thinking': 1, 'to': 2, 'weeks': 1, 'save': 1, 'mixture': 1, 'babies': 1, 'very': ... |\n",
      "| {'just': 2, 'food': 2, 'reviewers': 1, 'pointed': 1, 'soon': 1, 'month': 1, 'product': 1, 'ended': 1, 'chair': 8, 'children': 1, 'letting': 1, 'instance': 1, 'effort': 1, 'poin... |\n",
      "| {'would': 1, 'old': 1, 'is': 1, 'year': 1, 'it': 7, 'walk': 1, 'ended': 1, 'batteries': 1, 'ever': 1, 'something': 1, 'pees': 1, 'its': 1, 'one': 2, 'thought': 2, 'different': ... |\n",
      "| {'just': 1, 'whoever': 1, 'being': 1, 'when': 2, 'pitched': 1, 'splitting': 1, 'rest': 1, 'discovered': 1, 'radio': 1, 'bedroom': 1, 'go': 1, 'still': 4, 'hole': 1, 'unplugged'... |\n",
      "| {'all': 2, 'money': 1, 'over': 1, 'move': 1, 'discovered': 1, 'same': 1, 'its': 1, 'poorly': 1, 'had': 1, 'better': 1, 'to': 8, 'finally': 1, 'board': 1, 'pretty': 2, 'save': 1... |\n",
      "| {'all': 1, 'managed': 1, 'rubs': 1, 'just': 3, 'money': 2, 'over': 1, 'both': 2, 'anyway': 1, 'not': 2, 'its': 1, 'before': 1, 'cut': 1, 'purchased': 1, 'also': 2, 'inward': 1,... |\n",
      "| {'all': 1, '45': 1, 'just': 1, 'reviewers': 1, 'able': 1, 'reviewed': 1, 'sprayer': 2, 'go': 1, 'still': 1, 'yet': 1, 'fix': 1, 'him': 1, 'failed': 1, 'money': 1, 'save': 1, 'h... |\n",
      "| {'all': 1, 'just': 2, 'reviewers': 1, 'both': 1, 'month': 1, 'discovered': 1, 'shape': 1, 'own': 1, 'using': 2, 'still': 1, 'milk': 1, 'perfect': 1, 'certainly': 1, 'outer': 1,... |\n",
      "+-------------------------------------------------------------------------------------------------------------------------------------------------------------------------------------+\n",
      "+-----------+--------------------+-----------------------------------------------------------------------------------------------------------------------+\n",
      "| sentiment |       scores       |                                                   word_count_subset                                                   |\n",
      "+-----------+--------------------+-----------------------------------------------------------------------------------------------------------------------+\n",
      "|     1     | 7.80415068203e-100 | {'even': 4, 'product': 5, 'would': 16, 'less': 3, 'money': 6, 'well': 6, 'great': 1, 'easy': 1, 'car': 6, 'waste': 1} |\n",
      "|     -1    | 6.83650885511e-25  |                       {'even': 2, 'product': 1, 'return': 1, 'would': 1, 'well': 1, 'broke': 2}                       |\n",
      "|     -1    | 2.12654510822e-24  |                                   {'money': 1, 'product': 2, 'work': 1, 'would': 3}                                   |\n",
      "|     -1    | 2.24582080778e-23  |                               {'even': 2, 'product': 5, 'work': 1, 'old': 1, 'broke': 1}                              |\n",
      "|     -1    | 1.32962966148e-22  |  {'even': 2, 'product': 3, 'old': 1, 'would': 3, 'less': 2, 'well': 2, 'work': 2, 'able': 3, 'great': 1, 'broke': 1}  |\n",
      "|     -1    | 2.06872097469e-20  |                                    {'even': 2, 'little': 1, 'work': 1, 'return': 1}                                   |\n",
      "|     -1    | 5.93881994669e-20  |                   {'even': 2, 'little': 1, 'would': 3, 'car': 3, 'work': 1, 'well': 1, 'product': 1}                  |\n",
      "|     -1    | 6.28510016535e-20  |                                    {'product': 3, 'well': 1, 'would': 2, 'less': 1}                                   |\n",
      "|     -1    | 8.05528712685e-20  |                     {'even': 3, 'easy': 1, 'would': 1, 'car': 1, 'work': 1, 'well': 1, 'broke': 1}                    |\n",
      "|     -1    | 8.46521724935e-20  |                   {'even': 1, 'product': 1, 'would': 4, 'less': 2, 'work': 1, 'well': 4, 'waste': 1}                  |\n",
      "|     -1    |  1.5285394517e-19  |                                    {'even': 1, 'money': 1, 'great': 1, 'loves': 1}                                    |\n",
      "|     -1    | 1.77901889386e-19  |              {'even': 3, 'little': 1, 'old': 1, 'would': 10, 'less': 1, 'work': 2, 'well': 4, 'great': 1}             |\n",
      "|     -1    | 1.15227353847e-18  |                           {'disappointed': 1, 'great': 1, 'old': 2, 'would': 3, 'money': 1}                           |\n",
      "|     -1    | 1.26175666135e-18  |                                    {'money': 1, 'product': 1, 'work': 1, 'old': 4}                                    |\n",
      "|     -1    | 1.60282966314e-18  |                                                 {'old': 1, 'would': 1}                                                |\n",
      "|     -1    | 7.04887411709e-18  |                                                {'great': 1, 'well': 1}                                                |\n",
      "|     -1    | 9.84839237567e-18  |                                    {'even': 1, 'money': 1, 'product': 1, 'well': 1}                                   |\n",
      "|     -1    | 1.00120730395e-17  |             {'even': 1, 'little': 1, 'old': 1, 'would': 1, 'money': 2, 'product': 2, 'broke': 2, 'car': 1}            |\n",
      "|     -1    |  1.169063556e-17   |                                 {'money': 1, 'able': 1, 'disappointed': 1, 'would': 2}                                |\n",
      "|     -1    | 1.22003532002e-17  |                                         {'perfect': 1, 'money': 1, 'would': 1}                                        |\n",
      "+-----------+--------------------+-----------------------------------------------------------------------------------------------------------------------+\n",
      "[20 rows x 7 columns]\n",
      "\n"
     ]
    }
   ],
   "source": [
    "test_data.topk('scores',k=20,reverse=True).print_rows(num_rows=20,max_column_width=180)\n"
   ]
  },
  {
   "cell_type": "markdown",
   "metadata": {
    "collapsed": true
   },
   "source": [
    "**Quiz Question**: Which of the following products are represented in the 20 most negative reviews?  [multiple choice]"
   ]
  },
  {
   "cell_type": "markdown",
   "metadata": {},
   "source": [
    "## Compute accuracy of the classifier\n",
    "\n",
    "We will now evaluate the accuracy of the trained classifer. Recall that the accuracy is given by\n",
    "\n",
    "\n",
    "$$\n",
    "\\mbox{accuracy} = \\frac{\\mbox{# correctly classified examples}}{\\mbox{# total examples}}\n",
    "$$\n",
    "\n",
    "This can be computed as follows:\n",
    "\n",
    "* **Step 1:** Use the trained model to compute class predictions (**Hint:** Use the `predict` method)\n",
    "* **Step 2:** Count the number of data points when the predicted class labels match the ground truth labels (called `true_labels` below).\n",
    "* **Step 3:** Divide the total number of correct predictions by the total number of data points in the dataset.\n",
    "\n",
    "Complete the function below to compute the classification accuracy:"
   ]
  },
  {
   "cell_type": "code",
   "execution_count": 80,
   "metadata": {
    "collapsed": true,
    "scrolled": true
   },
   "outputs": [],
   "source": [
    "def get_classification_accuracy(model, data, true_labels):\n",
    "    # First get the predictions\n",
    "    prediction = model.predict(data)\n",
    "    # Compute the number of correctly classified examples\n",
    "    correct_data = graphlab.SFrame(data['sentiment'] + prediction)\n",
    "    correct = len(correct_data[correct_data['X1']!=0])\n",
    "    # Then compute accuracy by dividing num_correct by total number of examples\n",
    "    ## YOUR CODE HERE\n",
    "    accuracy = correct/len(data)\n",
    "    \n",
    "    return accuracy"
   ]
  },
  {
   "cell_type": "markdown",
   "metadata": {},
   "source": [
    "Now, let's compute the classification accuracy of the **sentiment_model** on the **test_data**."
   ]
  },
  {
   "cell_type": "code",
   "execution_count": 81,
   "metadata": {
    "collapsed": false
   },
   "outputs": [
    {
     "name": "stdout",
     "output_type": "stream",
     "text": [
      "0.914536837053\n"
     ]
    }
   ],
   "source": [
    "print get_classification_accuracy(sentiment_model, test_data, test_data['sentiment'])"
   ]
  },
  {
   "cell_type": "markdown",
   "metadata": {},
   "source": [
    "**Quiz Question**: What is the accuracy of the **sentiment_model** on the **test_data**? Round your answer to 2 decimal places (e.g. 0.76).\n",
    "\n",
    "**Quiz Question**: Does a higher accuracy value on the **training_data** always imply that the classifier is better?"
   ]
  },
  {
   "cell_type": "markdown",
   "metadata": {},
   "source": [
    "## Learn another classifier with fewer words\n",
    "\n",
    "There were a lot of words in the model we trained above. We will now train a simpler logistic regression model using only a subet of words that occur in the reviews. For this assignment, we selected a 20 words to work with. These are:"
   ]
  },
  {
   "cell_type": "code",
   "execution_count": 82,
   "metadata": {
    "collapsed": true
   },
   "outputs": [],
   "source": [
    "significant_words = ['love', 'great', 'easy', 'old', 'little', 'perfect', 'loves', \n",
    "      'well', 'able', 'car', 'broke', 'less', 'even', 'waste', 'disappointed', \n",
    "      'work', 'product', 'money', 'would', 'return']"
   ]
  },
  {
   "cell_type": "code",
   "execution_count": 83,
   "metadata": {
    "collapsed": false
   },
   "outputs": [
    {
     "data": {
      "text/plain": [
       "20"
      ]
     },
     "execution_count": 83,
     "metadata": {},
     "output_type": "execute_result"
    }
   ],
   "source": [
    "len(significant_words)"
   ]
  },
  {
   "cell_type": "markdown",
   "metadata": {},
   "source": [
    "For each review, we will use the **word_count** column and trim out all words that are **not** in the **significant_words** list above. We will use the [SArray dictionary trim by keys functionality]( https://dato.com/products/create/docs/generated/graphlab.SArray.dict_trim_by_keys.html). Note that we are performing this on both the training and test set."
   ]
  },
  {
   "cell_type": "code",
   "execution_count": 84,
   "metadata": {
    "collapsed": false
   },
   "outputs": [],
   "source": [
    "train_data['word_count_subset'] = train_data['word_count'].dict_trim_by_keys(significant_words, exclude=False)\n",
    "test_data['word_count_subset'] = test_data['word_count'].dict_trim_by_keys(significant_words, exclude=False)"
   ]
  },
  {
   "cell_type": "markdown",
   "metadata": {},
   "source": [
    "Let's see what the first example of the dataset looks like:"
   ]
  },
  {
   "cell_type": "code",
   "execution_count": 85,
   "metadata": {
    "collapsed": false
   },
   "outputs": [
    {
     "data": {
      "text/plain": [
       "'it came early and was not disappointed. i love planet wise bags and now my wipe holder. it keps my osocozy wipes moist and does not leak. highly recommend it.'"
      ]
     },
     "execution_count": 85,
     "metadata": {},
     "output_type": "execute_result"
    }
   ],
   "source": [
    "train_data[0]['review']"
   ]
  },
  {
   "cell_type": "markdown",
   "metadata": {},
   "source": [
    "The **word_count** column had been working with before looks like the following:"
   ]
  },
  {
   "cell_type": "code",
   "execution_count": 86,
   "metadata": {
    "collapsed": false
   },
   "outputs": [
    {
     "name": "stdout",
     "output_type": "stream",
     "text": [
      "{'and': 3, 'love': 1, 'it': 3, 'highly': 1, 'osocozy': 1, 'bags': 1, 'leak': 1, 'moist': 1, 'does': 1, 'recommend': 1, 'was': 1, 'wipes': 1, 'disappointed': 1, 'early': 1, 'not': 2, 'now': 1, 'holder': 1, 'wipe': 1, 'keps': 1, 'wise': 1, 'i': 1, 'planet': 1, 'my': 2, 'came': 1}\n"
     ]
    }
   ],
   "source": [
    "print train_data[0]['word_count']"
   ]
  },
  {
   "cell_type": "markdown",
   "metadata": {},
   "source": [
    "Since we are only working with a subet of these words, the column **word_count_subset** is a subset of the above dictionary. In this example, only 2 `significant words` are present in this review."
   ]
  },
  {
   "cell_type": "code",
   "execution_count": 87,
   "metadata": {
    "collapsed": false
   },
   "outputs": [
    {
     "name": "stdout",
     "output_type": "stream",
     "text": [
      "{'love': 1, 'disappointed': 1}\n"
     ]
    }
   ],
   "source": [
    "print train_data[0]['word_count_subset']"
   ]
  },
  {
   "cell_type": "markdown",
   "metadata": {},
   "source": [
    "## Train a logistic regression model on a subset of data"
   ]
  },
  {
   "cell_type": "markdown",
   "metadata": {},
   "source": [
    "We will now build a classifier with **word_count_subset** as the feature and **sentiment** as the target. "
   ]
  },
  {
   "cell_type": "code",
   "execution_count": 88,
   "metadata": {
    "collapsed": false
   },
   "outputs": [
    {
     "name": "stdout",
     "output_type": "stream",
     "text": [
      "PROGRESS: Logistic regression:\n",
      "PROGRESS: --------------------------------------------------------\n",
      "PROGRESS: Number of examples          : 133416\n",
      "PROGRESS: Number of classes           : 2\n",
      "PROGRESS: Number of feature columns   : 1\n",
      "PROGRESS: Number of unpacked features : 20\n",
      "PROGRESS: Number of coefficients    : 21\n",
      "PROGRESS: Starting Newton Method\n",
      "PROGRESS: --------------------------------------------------------\n",
      "PROGRESS: +-----------+----------+--------------+-------------------+\n",
      "PROGRESS: | Iteration | Passes   | Elapsed Time | Training-accuracy |\n",
      "PROGRESS: +-----------+----------+--------------+-------------------+\n",
      "PROGRESS: | 1         | 2        | 0.265019     | 0.862917          |\n",
      "PROGRESS: | 2         | 3        | 0.437256     | 0.865713          |\n",
      "PROGRESS: | 3         | 4        | 0.606699     | 0.866478          |\n",
      "PROGRESS: | 4         | 5        | 0.777921     | 0.866748          |\n",
      "PROGRESS: | 5         | 6        | 0.954301     | 0.866815          |\n",
      "PROGRESS: | 6         | 7        | 1.154536     | 0.866815          |\n",
      "PROGRESS: +-----------+----------+--------------+-------------------+\n",
      "PROGRESS: SUCCESS: Optimal solution found.\n",
      "PROGRESS:\n"
     ]
    },
    {
     "data": {
      "text/plain": [
       "Class                         : LogisticClassifier\n",
       "\n",
       "Schema\n",
       "------\n",
       "Number of coefficients        : 21\n",
       "Number of examples            : 133416\n",
       "Number of classes             : 2\n",
       "Number of feature columns     : 1\n",
       "Number of unpacked features   : 20\n",
       "\n",
       "Hyperparameters\n",
       "---------------\n",
       "L1 penalty                    : 0.0\n",
       "L2 penalty                    : 0.01\n",
       "\n",
       "Training Summary\n",
       "----------------\n",
       "Solver                        : auto\n",
       "Solver iterations             : 6\n",
       "Solver status                 : SUCCESS: Optimal solution found.\n",
       "Training time (sec)           : 1.1988\n",
       "\n",
       "Settings\n",
       "--------\n",
       "Log-likelihood                : 44323.7254\n",
       "\n",
       "Highest Positive Coefficients\n",
       "-----------------------------\n",
       "word_count_subset[loves]      : 1.6773\n",
       "word_count_subset[perfect]    : 1.5145\n",
       "word_count_subset[love]       : 1.3654\n",
       "(intercept)                   : 1.2995\n",
       "word_count_subset[easy]       : 1.1937\n",
       "\n",
       "Lowest Negative Coefficients\n",
       "----------------------------\n",
       "word_count_subset[disappointed]: -2.3551\n",
       "word_count_subset[return]     : -2.1173\n",
       "word_count_subset[waste]      : -2.0428\n",
       "word_count_subset[broke]      : -1.658\n",
       "word_count_subset[money]      : -0.8979"
      ]
     },
     "execution_count": 88,
     "metadata": {},
     "output_type": "execute_result"
    }
   ],
   "source": [
    "simple_model = graphlab.logistic_classifier.create(train_data,\n",
    "                                                   target = 'sentiment',\n",
    "                                                   features=['word_count_subset'],\n",
    "                                                   validation_set=None)\n",
    "simple_model"
   ]
  },
  {
   "cell_type": "markdown",
   "metadata": {},
   "source": [
    "We can compute the classification accuracy using the `get_classification_accuracy` function you implemented earlier."
   ]
  },
  {
   "cell_type": "code",
   "execution_count": 89,
   "metadata": {
    "collapsed": false
   },
   "outputs": [
    {
     "name": "stdout",
     "output_type": "stream",
     "text": [
      "0.869300455964\n"
     ]
    }
   ],
   "source": [
    "print get_classification_accuracy(simple_model, test_data, test_data['sentiment'])"
   ]
  },
  {
   "cell_type": "markdown",
   "metadata": {},
   "source": [
    "Now, we will inspect the weights (coefficients) of the **simple_model**:"
   ]
  },
  {
   "cell_type": "code",
   "execution_count": 90,
   "metadata": {
    "collapsed": false
   },
   "outputs": [
    {
     "data": {
      "text/html": [
       "<div style=\"max-height:1000px;max-width:1500px;overflow:auto;\"><table frame=\"box\" rules=\"cols\">\n",
       "    <tr>\n",
       "        <th style=\"padding-left: 1em; padding-right: 1em; text-align: center\">name</th>\n",
       "        <th style=\"padding-left: 1em; padding-right: 1em; text-align: center\">index</th>\n",
       "        <th style=\"padding-left: 1em; padding-right: 1em; text-align: center\">class</th>\n",
       "        <th style=\"padding-left: 1em; padding-right: 1em; text-align: center\">value</th>\n",
       "    </tr>\n",
       "    <tr>\n",
       "        <td style=\"padding-left: 1em; padding-right: 1em; text-align: center; vertical-align: top\">(intercept)</td>\n",
       "        <td style=\"padding-left: 1em; padding-right: 1em; text-align: center; vertical-align: top\">None</td>\n",
       "        <td style=\"padding-left: 1em; padding-right: 1em; text-align: center; vertical-align: top\">1</td>\n",
       "        <td style=\"padding-left: 1em; padding-right: 1em; text-align: center; vertical-align: top\">1.2995449552</td>\n",
       "    </tr>\n",
       "    <tr>\n",
       "        <td style=\"padding-left: 1em; padding-right: 1em; text-align: center; vertical-align: top\">word_count_subset</td>\n",
       "        <td style=\"padding-left: 1em; padding-right: 1em; text-align: center; vertical-align: top\">disappointed</td>\n",
       "        <td style=\"padding-left: 1em; padding-right: 1em; text-align: center; vertical-align: top\">1</td>\n",
       "        <td style=\"padding-left: 1em; padding-right: 1em; text-align: center; vertical-align: top\">-2.35509250061</td>\n",
       "    </tr>\n",
       "    <tr>\n",
       "        <td style=\"padding-left: 1em; padding-right: 1em; text-align: center; vertical-align: top\">word_count_subset</td>\n",
       "        <td style=\"padding-left: 1em; padding-right: 1em; text-align: center; vertical-align: top\">love</td>\n",
       "        <td style=\"padding-left: 1em; padding-right: 1em; text-align: center; vertical-align: top\">1</td>\n",
       "        <td style=\"padding-left: 1em; padding-right: 1em; text-align: center; vertical-align: top\">1.36543549368</td>\n",
       "    </tr>\n",
       "    <tr>\n",
       "        <td style=\"padding-left: 1em; padding-right: 1em; text-align: center; vertical-align: top\">word_count_subset</td>\n",
       "        <td style=\"padding-left: 1em; padding-right: 1em; text-align: center; vertical-align: top\">well</td>\n",
       "        <td style=\"padding-left: 1em; padding-right: 1em; text-align: center; vertical-align: top\">1</td>\n",
       "        <td style=\"padding-left: 1em; padding-right: 1em; text-align: center; vertical-align: top\">0.504256746398</td>\n",
       "    </tr>\n",
       "    <tr>\n",
       "        <td style=\"padding-left: 1em; padding-right: 1em; text-align: center; vertical-align: top\">word_count_subset</td>\n",
       "        <td style=\"padding-left: 1em; padding-right: 1em; text-align: center; vertical-align: top\">product</td>\n",
       "        <td style=\"padding-left: 1em; padding-right: 1em; text-align: center; vertical-align: top\">1</td>\n",
       "        <td style=\"padding-left: 1em; padding-right: 1em; text-align: center; vertical-align: top\">-0.320555492996</td>\n",
       "    </tr>\n",
       "    <tr>\n",
       "        <td style=\"padding-left: 1em; padding-right: 1em; text-align: center; vertical-align: top\">word_count_subset</td>\n",
       "        <td style=\"padding-left: 1em; padding-right: 1em; text-align: center; vertical-align: top\">loves</td>\n",
       "        <td style=\"padding-left: 1em; padding-right: 1em; text-align: center; vertical-align: top\">1</td>\n",
       "        <td style=\"padding-left: 1em; padding-right: 1em; text-align: center; vertical-align: top\">1.67727145556</td>\n",
       "    </tr>\n",
       "    <tr>\n",
       "        <td style=\"padding-left: 1em; padding-right: 1em; text-align: center; vertical-align: top\">word_count_subset</td>\n",
       "        <td style=\"padding-left: 1em; padding-right: 1em; text-align: center; vertical-align: top\">little</td>\n",
       "        <td style=\"padding-left: 1em; padding-right: 1em; text-align: center; vertical-align: top\">1</td>\n",
       "        <td style=\"padding-left: 1em; padding-right: 1em; text-align: center; vertical-align: top\">0.520628636025</td>\n",
       "    </tr>\n",
       "    <tr>\n",
       "        <td style=\"padding-left: 1em; padding-right: 1em; text-align: center; vertical-align: top\">word_count_subset</td>\n",
       "        <td style=\"padding-left: 1em; padding-right: 1em; text-align: center; vertical-align: top\">work</td>\n",
       "        <td style=\"padding-left: 1em; padding-right: 1em; text-align: center; vertical-align: top\">1</td>\n",
       "        <td style=\"padding-left: 1em; padding-right: 1em; text-align: center; vertical-align: top\">-0.621700012425</td>\n",
       "    </tr>\n",
       "    <tr>\n",
       "        <td style=\"padding-left: 1em; padding-right: 1em; text-align: center; vertical-align: top\">word_count_subset</td>\n",
       "        <td style=\"padding-left: 1em; padding-right: 1em; text-align: center; vertical-align: top\">easy</td>\n",
       "        <td style=\"padding-left: 1em; padding-right: 1em; text-align: center; vertical-align: top\">1</td>\n",
       "        <td style=\"padding-left: 1em; padding-right: 1em; text-align: center; vertical-align: top\">1.19366189833</td>\n",
       "    </tr>\n",
       "    <tr>\n",
       "        <td style=\"padding-left: 1em; padding-right: 1em; text-align: center; vertical-align: top\">word_count_subset</td>\n",
       "        <td style=\"padding-left: 1em; padding-right: 1em; text-align: center; vertical-align: top\">great</td>\n",
       "        <td style=\"padding-left: 1em; padding-right: 1em; text-align: center; vertical-align: top\">1</td>\n",
       "        <td style=\"padding-left: 1em; padding-right: 1em; text-align: center; vertical-align: top\">0.94469126948</td>\n",
       "    </tr>\n",
       "</table>\n",
       "[21 rows x 4 columns]<br/>Note: Only the head of the SFrame is printed.<br/>You can use print_rows(num_rows=m, num_columns=n) to print more rows and columns.\n",
       "</div>"
      ],
      "text/plain": [
       "Columns:\n",
       "\tname\tstr\n",
       "\tindex\tstr\n",
       "\tclass\tint\n",
       "\tvalue\tfloat\n",
       "\n",
       "Rows: 21\n",
       "\n",
       "Data:\n",
       "+-------------------+--------------+-------+-----------------+\n",
       "|        name       |    index     | class |      value      |\n",
       "+-------------------+--------------+-------+-----------------+\n",
       "|    (intercept)    |     None     |   1   |   1.2995449552  |\n",
       "| word_count_subset | disappointed |   1   |  -2.35509250061 |\n",
       "| word_count_subset |     love     |   1   |  1.36543549368  |\n",
       "| word_count_subset |     well     |   1   |  0.504256746398 |\n",
       "| word_count_subset |   product    |   1   | -0.320555492996 |\n",
       "| word_count_subset |    loves     |   1   |  1.67727145556  |\n",
       "| word_count_subset |    little    |   1   |  0.520628636025 |\n",
       "| word_count_subset |     work     |   1   | -0.621700012425 |\n",
       "| word_count_subset |     easy     |   1   |  1.19366189833  |\n",
       "| word_count_subset |    great     |   1   |  0.94469126948  |\n",
       "+-------------------+--------------+-------+-----------------+\n",
       "[21 rows x 4 columns]\n",
       "Note: Only the head of the SFrame is printed.\n",
       "You can use print_rows(num_rows=m, num_columns=n) to print more rows and columns."
      ]
     },
     "execution_count": 90,
     "metadata": {},
     "output_type": "execute_result"
    }
   ],
   "source": [
    "simple_model.coefficients"
   ]
  },
  {
   "cell_type": "markdown",
   "metadata": {},
   "source": [
    "Let's sort the coefficients (in descending order) by the **value** to obtain the coefficients with the most positive effect on the sentiment."
   ]
  },
  {
   "cell_type": "code",
   "execution_count": 91,
   "metadata": {
    "collapsed": false
   },
   "outputs": [
    {
     "name": "stdout",
     "output_type": "stream",
     "text": [
      "+-------------------+--------------+-------+-----------------+\n",
      "|        name       |    index     | class |      value      |\n",
      "+-------------------+--------------+-------+-----------------+\n",
      "| word_count_subset |    loves     |   1   |  1.67727145556  |\n",
      "| word_count_subset |   perfect    |   1   |  1.51448626703  |\n",
      "| word_count_subset |     love     |   1   |  1.36543549368  |\n",
      "|    (intercept)    |     None     |   1   |   1.2995449552  |\n",
      "| word_count_subset |     easy     |   1   |  1.19366189833  |\n",
      "| word_count_subset |    great     |   1   |  0.94469126948  |\n",
      "| word_count_subset |    little    |   1   |  0.520628636025 |\n",
      "| word_count_subset |     well     |   1   |  0.504256746398 |\n",
      "| word_count_subset |     able     |   1   |  0.191438302295 |\n",
      "| word_count_subset |     old      |   1   | 0.0853961886678 |\n",
      "| word_count_subset |     car      |   1   |  0.058834990068 |\n",
      "| word_count_subset |     less     |   1   | -0.209709815216 |\n",
      "| word_count_subset |   product    |   1   | -0.320555492996 |\n",
      "| word_count_subset |    would     |   1   | -0.362308947711 |\n",
      "| word_count_subset |     even     |   1   |  -0.51173855127 |\n",
      "| word_count_subset |     work     |   1   | -0.621700012425 |\n",
      "| word_count_subset |    money     |   1   | -0.897884155776 |\n",
      "| word_count_subset |    broke     |   1   |  -1.65796447838 |\n",
      "| word_count_subset |    waste     |   1   |   -2.042773611  |\n",
      "| word_count_subset |    return    |   1   |  -2.11729659718 |\n",
      "| word_count_subset | disappointed |   1   |  -2.35509250061 |\n",
      "+-------------------+--------------+-------+-----------------+\n",
      "[21 rows x 4 columns]\n",
      "\n"
     ]
    }
   ],
   "source": [
    "simple_model.coefficients.sort('value', ascending=False).print_rows(num_rows=21)"
   ]
  },
  {
   "cell_type": "markdown",
   "metadata": {},
   "source": [
    "**Quiz Question**: Consider the coefficients of **simple_model**. There should be 21 of them, an intercept term + one for each word in **significant_words**. How many of the 20 coefficients (corresponding to the 20 **significant_words** and *excluding the intercept term*) are positive for the `simple_model`?"
   ]
  },
  {
   "cell_type": "code",
   "execution_count": null,
   "metadata": {
    "collapsed": false
   },
   "outputs": [],
   "source": [
    "10"
   ]
  },
  {
   "cell_type": "markdown",
   "metadata": {},
   "source": [
    "**Quiz Question**: Are the positive words in the **simple_model** (let us call them `positive_significant_words`) also positive words in the **sentiment_model**?"
   ]
  },
  {
   "cell_type": "code",
   "execution_count": 113,
   "metadata": {
    "collapsed": false
   },
   "outputs": [
    {
     "data": {
      "text/html": [
       "<div style=\"max-height:1000px;max-width:1500px;overflow:auto;\"><table frame=\"box\" rules=\"cols\">\n",
       "    <tr>\n",
       "        <th style=\"padding-left: 1em; padding-right: 1em; text-align: center\">name</th>\n",
       "        <th style=\"padding-left: 1em; padding-right: 1em; text-align: center\">index</th>\n",
       "        <th style=\"padding-left: 1em; padding-right: 1em; text-align: center\">class</th>\n",
       "        <th style=\"padding-left: 1em; padding-right: 1em; text-align: center\">value</th>\n",
       "    </tr>\n",
       "    <tr>\n",
       "        <td style=\"padding-left: 1em; padding-right: 1em; text-align: center; vertical-align: top\">(intercept)</td>\n",
       "        <td style=\"padding-left: 1em; padding-right: 1em; text-align: center; vertical-align: top\">None</td>\n",
       "        <td style=\"padding-left: 1em; padding-right: 1em; text-align: center; vertical-align: top\">1</td>\n",
       "        <td style=\"padding-left: 1em; padding-right: 1em; text-align: center; vertical-align: top\">1.30337080544</td>\n",
       "    </tr>\n",
       "    <tr>\n",
       "        <td style=\"padding-left: 1em; padding-right: 1em; text-align: center; vertical-align: top\">word_count</td>\n",
       "        <td style=\"padding-left: 1em; padding-right: 1em; text-align: center; vertical-align: top\">recommend</td>\n",
       "        <td style=\"padding-left: 1em; padding-right: 1em; text-align: center; vertical-align: top\">1</td>\n",
       "        <td style=\"padding-left: 1em; padding-right: 1em; text-align: center; vertical-align: top\">0.303815600015</td>\n",
       "    </tr>\n",
       "    <tr>\n",
       "        <td style=\"padding-left: 1em; padding-right: 1em; text-align: center; vertical-align: top\">word_count</td>\n",
       "        <td style=\"padding-left: 1em; padding-right: 1em; text-align: center; vertical-align: top\">highly</td>\n",
       "        <td style=\"padding-left: 1em; padding-right: 1em; text-align: center; vertical-align: top\">1</td>\n",
       "        <td style=\"padding-left: 1em; padding-right: 1em; text-align: center; vertical-align: top\">1.49183015276</td>\n",
       "    </tr>\n",
       "    <tr>\n",
       "        <td style=\"padding-left: 1em; padding-right: 1em; text-align: center; vertical-align: top\">word_count</td>\n",
       "        <td style=\"padding-left: 1em; padding-right: 1em; text-align: center; vertical-align: top\">disappointed</td>\n",
       "        <td style=\"padding-left: 1em; padding-right: 1em; text-align: center; vertical-align: top\">1</td>\n",
       "        <td style=\"padding-left: 1em; padding-right: 1em; text-align: center; vertical-align: top\">-3.95748618393</td>\n",
       "    </tr>\n",
       "    <tr>\n",
       "        <td style=\"padding-left: 1em; padding-right: 1em; text-align: center; vertical-align: top\">word_count</td>\n",
       "        <td style=\"padding-left: 1em; padding-right: 1em; text-align: center; vertical-align: top\">love</td>\n",
       "        <td style=\"padding-left: 1em; padding-right: 1em; text-align: center; vertical-align: top\">1</td>\n",
       "        <td style=\"padding-left: 1em; padding-right: 1em; text-align: center; vertical-align: top\">1.43301685439</td>\n",
       "    </tr>\n",
       "    <tr>\n",
       "        <td style=\"padding-left: 1em; padding-right: 1em; text-align: center; vertical-align: top\">word_count</td>\n",
       "        <td style=\"padding-left: 1em; padding-right: 1em; text-align: center; vertical-align: top\">it</td>\n",
       "        <td style=\"padding-left: 1em; padding-right: 1em; text-align: center; vertical-align: top\">1</td>\n",
       "        <td style=\"padding-left: 1em; padding-right: 1em; text-align: center; vertical-align: top\">0.00986646490307</td>\n",
       "    </tr>\n",
       "    <tr>\n",
       "        <td style=\"padding-left: 1em; padding-right: 1em; text-align: center; vertical-align: top\">word_count</td>\n",
       "        <td style=\"padding-left: 1em; padding-right: 1em; text-align: center; vertical-align: top\">planet</td>\n",
       "        <td style=\"padding-left: 1em; padding-right: 1em; text-align: center; vertical-align: top\">1</td>\n",
       "        <td style=\"padding-left: 1em; padding-right: 1em; text-align: center; vertical-align: top\">-0.797764553926</td>\n",
       "    </tr>\n",
       "    <tr>\n",
       "        <td style=\"padding-left: 1em; padding-right: 1em; text-align: center; vertical-align: top\">word_count</td>\n",
       "        <td style=\"padding-left: 1em; padding-right: 1em; text-align: center; vertical-align: top\">and</td>\n",
       "        <td style=\"padding-left: 1em; padding-right: 1em; text-align: center; vertical-align: top\">1</td>\n",
       "        <td style=\"padding-left: 1em; padding-right: 1em; text-align: center; vertical-align: top\">0.048449573172</td>\n",
       "    </tr>\n",
       "    <tr>\n",
       "        <td style=\"padding-left: 1em; padding-right: 1em; text-align: center; vertical-align: top\">word_count</td>\n",
       "        <td style=\"padding-left: 1em; padding-right: 1em; text-align: center; vertical-align: top\">bags</td>\n",
       "        <td style=\"padding-left: 1em; padding-right: 1em; text-align: center; vertical-align: top\">1</td>\n",
       "        <td style=\"padding-left: 1em; padding-right: 1em; text-align: center; vertical-align: top\">0.165541436615</td>\n",
       "    </tr>\n",
       "    <tr>\n",
       "        <td style=\"padding-left: 1em; padding-right: 1em; text-align: center; vertical-align: top\">word_count</td>\n",
       "        <td style=\"padding-left: 1em; padding-right: 1em; text-align: center; vertical-align: top\">wipes</td>\n",
       "        <td style=\"padding-left: 1em; padding-right: 1em; text-align: center; vertical-align: top\">1</td>\n",
       "        <td style=\"padding-left: 1em; padding-right: 1em; text-align: center; vertical-align: top\">-0.0949937947269</td>\n",
       "    </tr>\n",
       "</table>\n",
       "[121713 rows x 4 columns]<br/>Note: Only the head of the SFrame is printed.<br/>You can use print_rows(num_rows=m, num_columns=n) to print more rows and columns.\n",
       "</div>"
      ],
      "text/plain": [
       "Columns:\n",
       "\tname\tstr\n",
       "\tindex\tstr\n",
       "\tclass\tint\n",
       "\tvalue\tfloat\n",
       "\n",
       "Rows: 121713\n",
       "\n",
       "Data:\n",
       "+-------------+--------------+-------+------------------+\n",
       "|     name    |    index     | class |      value       |\n",
       "+-------------+--------------+-------+------------------+\n",
       "| (intercept) |     None     |   1   |  1.30337080544   |\n",
       "|  word_count |  recommend   |   1   |  0.303815600015  |\n",
       "|  word_count |    highly    |   1   |  1.49183015276   |\n",
       "|  word_count | disappointed |   1   |  -3.95748618393  |\n",
       "|  word_count |     love     |   1   |  1.43301685439   |\n",
       "|  word_count |      it      |   1   | 0.00986646490307 |\n",
       "|  word_count |    planet    |   1   | -0.797764553926  |\n",
       "|  word_count |     and      |   1   |  0.048449573172  |\n",
       "|  word_count |     bags     |   1   |  0.165541436615  |\n",
       "|  word_count |    wipes     |   1   | -0.0949937947269 |\n",
       "+-------------+--------------+-------+------------------+\n",
       "[121713 rows x 4 columns]\n",
       "Note: Only the head of the SFrame is printed.\n",
       "You can use print_rows(num_rows=m, num_columns=n) to print more rows and columns."
      ]
     },
     "execution_count": 113,
     "metadata": {},
     "output_type": "execute_result"
    }
   ],
   "source": [
    "sentiment_model.coefficients"
   ]
  },
  {
   "cell_type": "markdown",
   "metadata": {},
   "source": [
    "# Comparing models"
   ]
  },
  {
   "cell_type": "markdown",
   "metadata": {},
   "source": [
    "We will now compare the accuracy of the **sentiment_model** and the **simple_model** using the `get_classification_accuracy` method you implemented above.\n",
    "\n",
    "First, compute the classification accuracy of the **sentiment_model** on the **train_data**:"
   ]
  },
  {
   "cell_type": "code",
   "execution_count": 102,
   "metadata": {
    "collapsed": false
   },
   "outputs": [
    {
     "name": "stdout",
     "output_type": "stream",
     "text": [
      "0.979440247047\n"
     ]
    }
   ],
   "source": [
    "print get_classification_accuracy(sentiment_model, train_data, train_data['sentiment'])"
   ]
  },
  {
   "cell_type": "markdown",
   "metadata": {},
   "source": [
    "Now, compute the classification accuracy of the **simple_model** on the **train_data**:"
   ]
  },
  {
   "cell_type": "code",
   "execution_count": 103,
   "metadata": {
    "collapsed": false
   },
   "outputs": [
    {
     "name": "stdout",
     "output_type": "stream",
     "text": [
      "0.866815074654\n"
     ]
    }
   ],
   "source": [
    "print get_classification_accuracy(simple_model, train_data, train_data['sentiment'])"
   ]
  },
  {
   "cell_type": "markdown",
   "metadata": {},
   "source": [
    "**Quiz Question**: Which model (**sentiment_model** or **simple_model**) has higher accuracy on the TRAINING set?"
   ]
  },
  {
   "cell_type": "markdown",
   "metadata": {},
   "source": [
    "Now, we will repeat this excercise on the **test_data**. Start by computing the classification accuracy of the **sentiment_model** on the **test_data**:"
   ]
  },
  {
   "cell_type": "code",
   "execution_count": 104,
   "metadata": {
    "collapsed": false
   },
   "outputs": [
    {
     "name": "stdout",
     "output_type": "stream",
     "text": [
      "0.914536837053\n"
     ]
    }
   ],
   "source": [
    "print get_classification_accuracy(sentiment_model, test_data, test_data['sentiment'])"
   ]
  },
  {
   "cell_type": "markdown",
   "metadata": {},
   "source": [
    "Next, we will compute the classification accuracy of the **simple_model** on the **test_data**:"
   ]
  },
  {
   "cell_type": "code",
   "execution_count": 105,
   "metadata": {
    "collapsed": false
   },
   "outputs": [
    {
     "name": "stdout",
     "output_type": "stream",
     "text": [
      "0.869300455964\n"
     ]
    }
   ],
   "source": [
    "print get_classification_accuracy(simple_model, test_data, test_data['sentiment'])"
   ]
  },
  {
   "cell_type": "markdown",
   "metadata": {},
   "source": [
    "**Quiz Question**: Which model (**sentiment_model** or **simple_model**) has higher accuracy on the TEST set?"
   ]
  },
  {
   "cell_type": "markdown",
   "metadata": {},
   "source": [
    "## Baseline: Majority class prediction\n",
    "\n",
    "It is quite common to use the **majority class classifier** as the a baseline (or reference) model for comparison with your classifier model. The majority classifier model predicts the majority class for all data points. At the very least, you should healthily beat the majority class classifier, otherwise, the model is (usually) pointless.\n",
    "\n",
    "What is the majority class in the **train_data**?"
   ]
  },
  {
   "cell_type": "code",
   "execution_count": 109,
   "metadata": {
    "collapsed": false
   },
   "outputs": [
    {
     "name": "stdout",
     "output_type": "stream",
     "text": [
      "112164\n",
      "21252\n"
     ]
    },
    {
     "data": {
      "text/plain": [
       "0.8407087605684476"
      ]
     },
     "execution_count": 109,
     "metadata": {},
     "output_type": "execute_result"
    }
   ],
   "source": [
    "num_positive  = (train_data['sentiment'] == +1).sum()\n",
    "num_negative = (train_data['sentiment'] == -1).sum()\n",
    "print num_positive\n",
    "print num_negative\n",
    "\n",
    "112164/(112164+21252)"
   ]
  },
  {
   "cell_type": "markdown",
   "metadata": {},
   "source": [
    "Now compute the accuracy of the majority class classifier on **test_data**.\n",
    "\n",
    "**Quiz Question**: Enter the accuracy of the majority class classifier model on the **test_data**. Round your answer to two decimal places (e.g. 0.76)."
   ]
  },
  {
   "cell_type": "code",
   "execution_count": 108,
   "metadata": {
    "collapsed": false,
    "scrolled": true
   },
   "outputs": [
    {
     "name": "stdout",
     "output_type": "stream",
     "text": [
      "28095\n",
      "5241\n"
     ]
    },
    {
     "data": {
      "text/plain": [
       "0.8427825773938085"
      ]
     },
     "execution_count": 108,
     "metadata": {},
     "output_type": "execute_result"
    }
   ],
   "source": [
    "num_positive  = (test_data['sentiment'] == +1).sum()\n",
    "num_negative = (test_data['sentiment'] == -1).sum()\n",
    "print num_positive\n",
    "print num_negative\n",
    "\n",
    "28095/(28095+5241)"
   ]
  },
  {
   "cell_type": "markdown",
   "metadata": {},
   "source": [
    "**Quiz Question**: Is the **sentiment_model** definitely better than the majority class classifier (the baseline)?"
   ]
  }
 ],
 "metadata": {
  "kernelspec": {
   "display_name": "Python 2",
   "language": "python",
   "name": "python2"
  },
  "language_info": {
   "codemirror_mode": {
    "name": "ipython",
    "version": 2
   },
   "file_extension": ".py",
   "mimetype": "text/x-python",
   "name": "python",
   "nbconvert_exporter": "python",
   "pygments_lexer": "ipython2",
   "version": "2.7.11"
  }
 },
 "nbformat": 4,
 "nbformat_minor": 0
}
